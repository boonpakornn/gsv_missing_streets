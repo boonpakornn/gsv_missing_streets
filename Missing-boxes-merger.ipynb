{
 "cells": [
  {
   "cell_type": "code",
   "execution_count": 28,
   "metadata": {},
   "outputs": [],
   "source": [
    "import json\n",
    "import os\n",
    "from glob import glob\n",
    "\n",
    "point_entry = {\n",
    "    \"type\": \"FeatureCollection\",\n",
    "    \"features\": []\n",
    "}\n",
    "\n",
    "for file_path in glob(os.path.join('data', 'missing-boxes', '*.geojson')):\n",
    "    \n",
    "    with open(file_path) as f:\n",
    "        data = json.load(f)\n",
    "\n",
    "    point_entry['features'] += data['features']"
   ]
  },
  {
   "cell_type": "code",
   "execution_count": 33,
   "metadata": {},
   "outputs": [],
   "source": [
    "with open(os.path.join('data', 'missing-boxes', 'Nakhon-Si-Thammarat-missing-boxes.geojson'), 'w') as FILE:\n",
    "    json.dump(point_entry, FILE, indent=4, sort_keys=True, ensure_ascii=True)"
   ]
  }
 ],
 "metadata": {
  "kernelspec": {
   "display_name": "Python 3",
   "language": "python",
   "name": "python3"
  },
  "language_info": {
   "codemirror_mode": {
    "name": "ipython",
    "version": 3
   },
   "file_extension": ".py",
   "mimetype": "text/x-python",
   "name": "python",
   "nbconvert_exporter": "python",
   "pygments_lexer": "ipython3",
   "version": "3.5.2"
  }
 },
 "nbformat": 4,
 "nbformat_minor": 2
}
