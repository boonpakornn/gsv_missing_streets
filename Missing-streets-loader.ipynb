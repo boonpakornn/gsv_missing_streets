{
 "cells": [
  {
   "cell_type": "code",
   "execution_count": 1,
   "metadata": {},
   "outputs": [],
   "source": [
    "import os, math, overpass, json\n",
    "import pandas as pd\n",
    "import numpy as np\n",
    "import urllib.request\n",
    "\n",
    "from copy import deepcopy\n",
    "from tqdm import tqdm_notebook, tqdm\n",
    "from urllib.request import urlopen, HTTPError\n",
    "from gsvloader import polygon_to_points, loader\n",
    "from shapely.geometry import Polygon, Point, LineString, MultiLineString\n",
    "\n",
    "keys = pd.read_csv('api-keys.csv', header=None)"
   ]
  },
  {
   "cell_type": "code",
   "execution_count": 2,
   "metadata": {},
   "outputs": [],
   "source": [
    "def linestring_to_coords(roads):\n",
    "    point_entry = {\n",
    "        \"type\": \"FeatureCollection\",\n",
    "        \"features\": []\n",
    "    }\n",
    "    for road in tqdm(roads['features'],'converting linestrings to coordinates'):\n",
    "        if (road['geometry']['type'] != 'LineString'):\n",
    "            continue\n",
    "        \n",
    "        line = deepcopy(road['geometry']['coordinates'])\n",
    "        road['geometry']['coordinates'] = []\n",
    "        \n",
    "        for i in range(len(line)-1):\n",
    "            x1,y1 = line[i]\n",
    "            x2,y2 = line[i+1]\n",
    "            x1 += 0.0000000001\n",
    "\n",
    "            degree = math.degrees(math.atan(abs((y1-y2)/(x1-x2))))\n",
    "\n",
    "            if(degree < 45): \n",
    "                if(x1 == min(x1,x2)): start_x,start_y, end_x,end_y = x1,y1, x2,y2 \n",
    "                else: start_x,start_y, end_x,end_y = x2,y2, x1,y1\n",
    "\n",
    "                m = (start_y-end_y)/(start_x-end_x)\n",
    "                FROM, TO = start_x, end_x                      \n",
    "                cur_x, cur_y = start_x, start_y\n",
    "                while(FROM < TO):\n",
    "                    new_x, new_y = linearEquation_x(start_x, start_y, m, FROM)\n",
    "                    dist = math.hypot(new_x-cur_x, new_y-cur_y)\n",
    "                    meters = 111111*dist\n",
    "                    if(meters > 50):\n",
    "                        cur_x, cur_y = new_x, new_y\n",
    "                        road['geometry']['coordinates'].append([round(cur_x, 8), round(cur_y, 8)])  \n",
    "                    FROM += 0.000000123\n",
    "            else:\n",
    "                if(y1 == min(y1,y2)): start_x,start_y, end_x,end_y = x1,y1, x2,y2 \n",
    "                else: start_x,start_y, end_x,end_y = x2,y2, x1,y1\n",
    "\n",
    "                m = (start_y-end_y)/(start_x-end_x)\n",
    "                FROM, TO = start_y, end_y                      \n",
    "                cur_x, cur_y = start_x, start_y\n",
    "                while(FROM < TO):\n",
    "                    new_x, new_y = linearEquation_y(start_x, start_y, m, FROM)\n",
    "                    dist = math.hypot(new_x-cur_x, new_y-cur_y)\n",
    "                    meters = 111111*dist\n",
    "                    if(meters > 50):\n",
    "                        cur_x, cur_y = new_x, new_y\n",
    "                        road['geometry']['coordinates'].append([round(cur_x, 8), round(cur_y, 8)])  \n",
    "                    FROM += 0.000000123\n",
    "        point_entry['features'].append(road)\n",
    "    return point_entry\n",
    "\n",
    "def linearEquation_x(x1, y1, m, x):\n",
    "    y = m*(x-x1)+y1\n",
    "    return x,y\n",
    "\n",
    "def linearEquation_y(x1, y1, m, y):\n",
    "    x = (y - y1 + (m*x1)) / m\n",
    "    return x,y"
   ]
  },
  {
   "cell_type": "code",
   "execution_count": 3,
   "metadata": {},
   "outputs": [],
   "source": [
    "with open(os.path.join('data','shapefiles','Nakhon-Si-Thammarat-en.geojson')) as f:\n",
    "    data = json.load(f)"
   ]
  },
  {
   "cell_type": "code",
   "execution_count": 4,
   "metadata": {
    "scrolled": false
   },
   "outputs": [
    {
     "name": "stdout",
     "output_type": "stream",
     "text": [
      "0\n",
      "['นครศรีธรรมราช', 'ทอนหงส์', 'พรหมคีรี']\n"
     ]
    },
    {
     "name": "stderr",
     "output_type": "stream",
     "text": [
      "converting linestrings to coordinates: 100%|██████████| 97/97 [00:06<00:00, 13.95it/s]\n",
      "loading GSV: 100%|██████████| 97/97 [00:07<00:00, 12.93it/s]\n"
     ]
    },
    {
     "name": "stdout",
     "output_type": "stream",
     "text": [
      "===================================================\n",
      "1\n",
      "['นครศรีธรรมราช', 'โมคลาน', 'ท่าศาลา']\n"
     ]
    },
    {
     "name": "stderr",
     "output_type": "stream",
     "text": [
      "converting linestrings to coordinates: 100%|██████████| 63/63 [00:04<00:00, 15.06it/s]\n",
      "loading GSV: 100%|██████████| 63/63 [00:04<00:00, 13.23it/s]\n"
     ]
    },
    {
     "name": "stdout",
     "output_type": "stream",
     "text": [
      "===================================================\n",
      "2\n",
      "['นครศรีธรรมราช', 'ปากพูน', 'เมืองนครศรีธรรมราช']\n"
     ]
    },
    {
     "name": "stderr",
     "output_type": "stream",
     "text": [
      "converting linestrings to coordinates: 100%|██████████| 602/602 [00:12<00:00, 48.25it/s]\n",
      "loading GSV: 100%|██████████| 602/602 [00:19<00:00, 31.67it/s]\n"
     ]
    },
    {
     "name": "stdout",
     "output_type": "stream",
     "text": [
      "===================================================\n",
      "3\n",
      "['นครศรีธรรมราช', 'พิปูน', 'พิปูน']\n"
     ]
    },
    {
     "name": "stderr",
     "output_type": "stream",
     "text": [
      "converting linestrings to coordinates: 100%|██████████| 35/35 [00:01<00:00, 22.54it/s]\n",
      "loading GSV: 100%|██████████| 35/35 [00:01<00:00, 23.82it/s]\n"
     ]
    },
    {
     "name": "stdout",
     "output_type": "stream",
     "text": [
      "===================================================\n",
      "4\n",
      "['นครศรีธรรมราช', 'ดอนตะโก', 'ท่าศาลา']\n"
     ]
    },
    {
     "name": "stderr",
     "output_type": "stream",
     "text": [
      "converting linestrings to coordinates: 100%|██████████| 49/49 [00:03<00:00, 12.59it/s]\n",
      "loading GSV: 100%|██████████| 49/49 [00:04<00:00, 11.11it/s]\n"
     ]
    },
    {
     "name": "stdout",
     "output_type": "stream",
     "text": [
      "===================================================\n",
      "5\n",
      "['นครศรีธรรมราช', 'นาเขลียง', 'ฉวาง']\n"
     ]
    },
    {
     "name": "stderr",
     "output_type": "stream",
     "text": [
      "converting linestrings to coordinates: 100%|██████████| 24/24 [00:01<00:00, 16.62it/s]\n",
      "loading GSV: 100%|██████████| 24/24 [00:02<00:00, 10.25it/s]\n"
     ]
    },
    {
     "name": "stdout",
     "output_type": "stream",
     "text": [
      "===================================================\n",
      "6\n",
      "['นครศรีธรรมราช', 'ควนกลาง', 'พิปูน']\n"
     ]
    },
    {
     "name": "stderr",
     "output_type": "stream",
     "text": [
      "converting linestrings to coordinates: 100%|██████████| 21/21 [00:02<00:00,  9.69it/s]\n",
      "loading GSV: 100%|██████████| 21/21 [00:02<00:00,  9.24it/s]\n"
     ]
    },
    {
     "name": "stdout",
     "output_type": "stream",
     "text": [
      "===================================================\n",
      "7\n",
      "['นครศรีธรรมราช', 'กะเปียด', 'ฉวาง']\n"
     ]
    },
    {
     "name": "stderr",
     "output_type": "stream",
     "text": [
      "converting linestrings to coordinates: 100%|██████████| 12/12 [00:02<00:00,  5.81it/s]\n",
      "loading GSV: 100%|██████████| 12/12 [00:02<00:00,  4.07it/s]\n"
     ]
    },
    {
     "name": "stdout",
     "output_type": "stream",
     "text": [
      "===================================================\n",
      "8\n",
      "['นครศรีธรรมราช', 'ท่าซัก', 'เมืองนครศรีธรรมราช']\n"
     ]
    },
    {
     "name": "stderr",
     "output_type": "stream",
     "text": [
      "converting linestrings to coordinates: 100%|██████████| 280/280 [00:06<00:00, 44.78it/s]\n",
      "loading GSV: 100%|██████████| 280/280 [00:10<00:00, 25.79it/s]\n"
     ]
    },
    {
     "name": "stdout",
     "output_type": "stream",
     "text": [
      "===================================================\n",
      "9\n",
      "['นครศรีธรรมราช', 'ยางค้อม', 'พิปูน']\n"
     ]
    },
    {
     "name": "stderr",
     "output_type": "stream",
     "text": [
      "converting linestrings to coordinates: 100%|██████████| 42/42 [00:03<00:00, 11.61it/s]\n",
      "loading GSV: 100%|██████████| 42/42 [00:04<00:00, 10.08it/s]\n"
     ]
    },
    {
     "name": "stdout",
     "output_type": "stream",
     "text": [
      "===================================================\n",
      "10\n",
      "['นครศรีธรรมราช', 'อินคีรี', 'พรหมคีรี']\n"
     ]
    },
    {
     "name": "stderr",
     "output_type": "stream",
     "text": [
      "converting linestrings to coordinates: 100%|██████████| 57/57 [00:03<00:00, 14.70it/s]\n",
      "loading GSV: 100%|██████████| 57/57 [00:05<00:00, 10.09it/s]\n"
     ]
    },
    {
     "name": "stdout",
     "output_type": "stream",
     "text": [
      "===================================================\n",
      "11\n",
      "['นครศรีธรรมราช', 'คลองเส', 'ถ้ำพรรณรา']\n"
     ]
    },
    {
     "name": "stderr",
     "output_type": "stream",
     "text": [
      "converting linestrings to coordinates: 100%|██████████| 15/15 [00:02<00:00,  5.55it/s]\n",
      "loading GSV: 100%|██████████| 15/15 [00:03<00:00,  4.76it/s]\n"
     ]
    },
    {
     "name": "stdout",
     "output_type": "stream",
     "text": [
      "===================================================\n",
      "12\n",
      "['นครศรีธรรมราช', 'บ้านเกาะ', 'พรหมคีรี']\n"
     ]
    },
    {
     "name": "stderr",
     "output_type": "stream",
     "text": [
      "converting linestrings to coordinates: 100%|██████████| 45/45 [00:02<00:00, 16.33it/s]\n",
      "loading GSV: 100%|██████████| 45/45 [00:02<00:00, 15.77it/s]\n"
     ]
    },
    {
     "name": "stdout",
     "output_type": "stream",
     "text": [
      "===================================================\n",
      "13\n",
      "['นครศรีธรรมราช', 'นาแว', 'ฉวาง']\n"
     ]
    },
    {
     "name": "stderr",
     "output_type": "stream",
     "text": [
      "converting linestrings to coordinates: 100%|██████████| 32/32 [00:03<00:00,  8.39it/s]\n",
      "loading GSV: 100%|██████████| 32/32 [00:04<00:00,  6.49it/s]\n"
     ]
    },
    {
     "name": "stdout",
     "output_type": "stream",
     "text": [
      "===================================================\n",
      "14\n",
      "['นครศรีธรรมราช', 'นาเรียง', 'พรหมคีรี']\n"
     ]
    },
    {
     "name": "stderr",
     "output_type": "stream",
     "text": [
      "converting linestrings to coordinates: 100%|██████████| 71/71 [00:03<00:00, 19.81it/s]\n",
      "loading GSV: 100%|██████████| 71/71 [00:05<00:00, 13.23it/s]\n"
     ]
    },
    {
     "name": "stdout",
     "output_type": "stream",
     "text": [
      "===================================================\n",
      "15\n",
      "['นครศรีธรรมราช', 'พรหมโลก', 'พรหมคีรี']\n"
     ]
    },
    {
     "name": "stderr",
     "output_type": "stream",
     "text": [
      "converting linestrings to coordinates: 100%|██████████| 101/101 [00:03<00:00, 31.97it/s]\n",
      "loading GSV: 100%|██████████| 101/101 [00:04<00:00, 21.41it/s]\n"
     ]
    },
    {
     "name": "stdout",
     "output_type": "stream",
     "text": [
      "===================================================\n",
      "16\n",
      "['นครศรีธรรมราช', 'แหลมตะลุมพุก', 'ปากพนัง']\n"
     ]
    },
    {
     "name": "stderr",
     "output_type": "stream",
     "text": [
      "converting linestrings to coordinates: 100%|██████████| 18/18 [00:01<00:00, 13.44it/s]\n",
      "loading GSV: 100%|██████████| 18/18 [00:03<00:00,  5.38it/s]\n"
     ]
    },
    {
     "name": "stdout",
     "output_type": "stream",
     "text": [
      "===================================================\n",
      "17\n",
      "['นครศรีธรรมราช', 'ละอาย', 'ฉวาง']\n"
     ]
    },
    {
     "name": "stderr",
     "output_type": "stream",
     "text": [
      "converting linestrings to coordinates: 100%|██████████| 74/74 [00:03<00:00, 18.96it/s]\n",
      "loading GSV: 100%|██████████| 74/74 [00:04<00:00, 15.96it/s]\n"
     ]
    },
    {
     "name": "stdout",
     "output_type": "stream",
     "text": [
      "===================================================\n",
      "18\n",
      "['นครศรีธรรมราช', 'ดุสิต', 'ถ้ำพรรณรา']\n"
     ]
    },
    {
     "name": "stderr",
     "output_type": "stream",
     "text": [
      "converting linestrings to coordinates: 100%|██████████| 49/49 [00:05<00:00,  9.14it/s]\n",
      "loading GSV: 100%|██████████| 49/49 [00:09<00:00,  5.00it/s]\n"
     ]
    },
    {
     "name": "stdout",
     "output_type": "stream",
     "text": [
      "===================================================\n",
      "19\n",
      "['นครศรีธรรมราช', 'ท่างิ้ว', 'เมืองนครศรีธรรมราช']\n"
     ]
    },
    {
     "name": "stderr",
     "output_type": "stream",
     "text": [
      "converting linestrings to coordinates: 100%|██████████| 151/151 [00:06<00:00, 25.11it/s]\n",
      "loading GSV: 100%|██████████| 151/151 [00:09<00:00, 16.17it/s]\n"
     ]
    },
    {
     "name": "stdout",
     "output_type": "stream",
     "text": [
      "===================================================\n",
      "20\n",
      "['นครศรีธรรมราช', 'ไสหร้า', 'ฉวาง']\n"
     ]
    },
    {
     "name": "stderr",
     "output_type": "stream",
     "text": [
      "converting linestrings to coordinates: 100%|██████████| 65/65 [00:04<00:00, 14.76it/s]\n",
      "loading GSV: 100%|██████████| 65/65 [00:06<00:00, 10.75it/s]\n"
     ]
    },
    {
     "name": "stdout",
     "output_type": "stream",
     "text": [
      "===================================================\n",
      "21\n",
      "['นครศรีธรรมราช', 'ปากนคร', 'เมืองนครศรีธรรมราช']\n"
     ]
    },
    {
     "name": "stderr",
     "output_type": "stream",
     "text": [
      "converting linestrings to coordinates: 100%|██████████| 365/365 [00:06<00:00, 58.82it/s]\n",
      "loading GSV: 100%|██████████| 365/365 [00:10<00:00, 33.28it/s]\n"
     ]
    },
    {
     "name": "stdout",
     "output_type": "stream",
     "text": [
      "===================================================\n",
      "22\n",
      "['นครศรีธรรมราช', 'นาทราย', 'เมืองนครศรีธรรมราช']\n"
     ]
    },
    {
     "name": "stderr",
     "output_type": "stream",
     "text": [
      "converting linestrings to coordinates: 100%|██████████| 103/103 [00:04<00:00, 23.99it/s]\n",
      "loading GSV: 100%|██████████| 103/103 [00:07<00:00, 14.50it/s]\n"
     ]
    },
    {
     "name": "stdout",
     "output_type": "stream",
     "text": [
      "===================================================\n",
      "23\n",
      "['นครศรีธรรมราช', 'กำโลน', 'ลานสกา']\n"
     ]
    },
    {
     "name": "stderr",
     "output_type": "stream",
     "text": [
      "converting linestrings to coordinates: 100%|██████████| 88/88 [00:02<00:00, 31.74it/s]\n",
      "loading GSV: 100%|██████████| 88/88 [00:02<00:00, 32.25it/s]\n"
     ]
    },
    {
     "name": "stdout",
     "output_type": "stream",
     "text": [
      "===================================================\n",
      "24\n",
      "['นครศรีธรรมราช', 'ไม้เรียง', 'ฉวาง']\n"
     ]
    },
    {
     "name": "stderr",
     "output_type": "stream",
     "text": [
      "converting linestrings to coordinates: 100%|██████████| 48/48 [00:02<00:00, 18.00it/s]\n",
      "loading GSV: 100%|██████████| 48/48 [00:03<00:00, 13.92it/s]\n"
     ]
    },
    {
     "name": "stdout",
     "output_type": "stream",
     "text": [
      "===================================================\n",
      "25\n",
      "['นครศรีธรรมราช', 'ท่าไร่', 'เมืองนครศรีธรรมราช']\n"
     ]
    },
    {
     "name": "stderr",
     "output_type": "stream",
     "text": [
      "converting linestrings to coordinates: 100%|██████████| 145/145 [00:04<00:00, 30.85it/s]\n",
      "loading GSV: 100%|██████████| 145/145 [00:08<00:00, 17.73it/s]\n"
     ]
    },
    {
     "name": "stdout",
     "output_type": "stream",
     "text": [
      "===================================================\n",
      "26\n",
      "['นครศรีธรรมราช', 'ถ้ำพรรณรา', 'ถ้ำพรรณรา']\n"
     ]
    },
    {
     "name": "stderr",
     "output_type": "stream",
     "text": [
      "converting linestrings to coordinates: 100%|██████████| 40/40 [00:04<00:00,  8.01it/s]\n",
      "loading GSV: 100%|██████████| 40/40 [00:08<00:00,  4.86it/s]\n"
     ]
    },
    {
     "name": "stdout",
     "output_type": "stream",
     "text": [
      "===================================================\n",
      "27\n",
      "['นครศรีธรรมราช', 'นาเคียน', 'เมืองนครศรีธรรมราช']\n"
     ]
    },
    {
     "name": "stderr",
     "output_type": "stream",
     "text": [
      "converting linestrings to coordinates: 100%|██████████| 177/177 [00:05<00:00, 35.34it/s]\n",
      "loading GSV: 100%|██████████| 177/177 [00:08<00:00, 21.35it/s]\n"
     ]
    },
    {
     "name": "stdout",
     "output_type": "stream",
     "text": [
      "===================================================\n",
      "28\n",
      "['นครศรีธรรมราช', 'บางรูป', 'ทุ่งใหญ่']\n"
     ]
    },
    {
     "name": "stderr",
     "output_type": "stream",
     "text": [
      "converting linestrings to coordinates: 100%|██████████| 46/46 [00:04<00:00,  9.88it/s]\n",
      "loading GSV: 100%|██████████| 46/46 [00:08<00:00,  5.13it/s]\n"
     ]
    },
    {
     "name": "stdout",
     "output_type": "stream",
     "text": [
      "===================================================\n",
      "29\n",
      "['นครศรีธรรมราช', 'ท่าดี', 'ลานสกา']\n"
     ]
    },
    {
     "name": "stderr",
     "output_type": "stream",
     "text": [
      "converting linestrings to coordinates: 100%|██████████| 72/72 [00:03<00:00, 19.45it/s]\n",
      "loading GSV: 100%|██████████| 72/72 [00:03<00:00, 18.95it/s]\n"
     ]
    },
    {
     "name": "stdout",
     "output_type": "stream",
     "text": [
      "===================================================\n",
      "30\n",
      "['นครศรีธรรมราช', 'ปากพนังฝั่งตะวันออก', 'ปากพนัง']\n"
     ]
    },
    {
     "name": "stderr",
     "output_type": "stream",
     "text": [
      "converting linestrings to coordinates: 100%|██████████| 98/98 [00:02<00:00, 33.83it/s]\n",
      "loading GSV: 100%|██████████| 98/98 [00:05<00:00, 17.03it/s]\n"
     ]
    },
    {
     "name": "stdout",
     "output_type": "stream",
     "text": [
      "===================================================\n",
      "31\n",
      "['นครศรีธรรมราช', 'ท่าวัง', 'เมืองนครศรีธรรมราช']\n"
     ]
    },
    {
     "name": "stderr",
     "output_type": "stream",
     "text": [
      "converting linestrings to coordinates: 100%|██████████| 210/210 [00:03<00:00, 56.15it/s]\n",
      "loading GSV: 100%|██████████| 210/210 [00:06<00:00, 34.55it/s]\n"
     ]
    },
    {
     "name": "stdout",
     "output_type": "stream",
     "text": [
      "===================================================\n",
      "32\n",
      "['นครศรีธรรมราช', 'สวนขัน', 'ช้างกลาง']\n"
     ]
    },
    {
     "name": "stderr",
     "output_type": "stream",
     "text": [
      "converting linestrings to coordinates: 100%|██████████| 55/55 [00:02<00:00, 20.45it/s]\n",
      "loading GSV: 100%|██████████| 55/55 [00:03<00:00, 14.44it/s]\n"
     ]
    },
    {
     "name": "stdout",
     "output_type": "stream",
     "text": [
      "===================================================\n",
      "33\n",
      "['นครศรีธรรมราช', 'นากะชะ', 'ฉวาง']\n"
     ]
    },
    {
     "name": "stderr",
     "output_type": "stream",
     "text": [
      "converting linestrings to coordinates: 100%|██████████| 11/11 [00:01<00:00,  8.13it/s]\n",
      "loading GSV: 100%|██████████| 11/11 [00:01<00:00,  7.62it/s]\n"
     ]
    },
    {
     "name": "stdout",
     "output_type": "stream",
     "text": [
      "===================================================\n",
      "34\n",
      "['นครศรีธรรมราช', 'โพธิ์เสด็จ', 'เมืองนครศรีธรรมราช']\n"
     ]
    },
    {
     "name": "stderr",
     "output_type": "stream",
     "text": [
      "converting linestrings to coordinates: 100%|██████████| 468/468 [00:08<00:00, 52.68it/s]\n",
      "loading GSV: 100%|██████████| 468/468 [00:13<00:00, 35.19it/s]\n"
     ]
    },
    {
     "name": "stdout",
     "output_type": "stream",
     "text": [
      "===================================================\n",
      "35\n",
      "['นครศรีธรรมราช', 'คลัง', 'เมืองนครศรีธรรมราช']\n"
     ]
    },
    {
     "name": "stderr",
     "output_type": "stream",
     "text": [
      "converting linestrings to coordinates: 100%|██████████| 105/105 [00:02<00:00, 49.53it/s]\n",
      "loading GSV: 100%|██████████| 105/105 [00:03<00:00, 26.33it/s]\n"
     ]
    },
    {
     "name": "stdout",
     "output_type": "stream",
     "text": [
      "===================================================\n",
      "36\n",
      "['นครศรีธรรมราช', 'กำแพงเซา', 'เมืองนครศรีธรรมราช']\n"
     ]
    },
    {
     "name": "stderr",
     "output_type": "stream",
     "text": [
      "converting linestrings to coordinates: 100%|██████████| 80/80 [00:05<00:00, 13.87it/s]\n",
      "loading GSV: 100%|██████████| 80/80 [00:09<00:00,  8.45it/s]\n"
     ]
    },
    {
     "name": "stdout",
     "output_type": "stream",
     "text": [
      "===================================================\n",
      "37\n",
      "['นครศรีธรรมราช', 'ฉวาง', 'ฉวาง']\n"
     ]
    },
    {
     "name": "stderr",
     "output_type": "stream",
     "text": [
      "converting linestrings to coordinates: 100%|██████████| 58/58 [00:02<00:00, 27.24it/s]\n",
      "loading GSV: 100%|██████████| 58/58 [00:03<00:00, 15.43it/s]\n"
     ]
    },
    {
     "name": "stdout",
     "output_type": "stream",
     "text": [
      "===================================================\n",
      "38\n",
      "['นครศรีธรรมราช', 'ทุ่งสัง', 'ทุ่งใหญ่']\n"
     ]
    },
    {
     "name": "stderr",
     "output_type": "stream",
     "text": [
      "converting linestrings to coordinates: 100%|██████████| 74/74 [00:05<00:00, 12.57it/s]\n",
      "loading GSV: 100%|██████████| 74/74 [00:10<00:00,  6.90it/s]\n"
     ]
    },
    {
     "name": "stdout",
     "output_type": "stream",
     "text": [
      "===================================================\n",
      "39\n",
      "['นครศรีธรรมราช', 'ช้างกลาง', 'ช้างกลาง']\n"
     ]
    },
    {
     "name": "stderr",
     "output_type": "stream",
     "text": [
      "converting linestrings to coordinates: 100%|██████████| 108/108 [00:07<00:00, 13.80it/s]\n",
      "loading GSV: 100%|██████████| 108/108 [00:11<00:00,  9.49it/s]\n"
     ]
    },
    {
     "name": "stdout",
     "output_type": "stream",
     "text": [
      "===================================================\n",
      "40\n",
      "['นครศรีธรรมราช', 'ในเมือง', 'เมืองนครศรีธรรมราช']\n"
     ]
    },
    {
     "name": "stderr",
     "output_type": "stream",
     "text": [
      "converting linestrings to coordinates: 100%|██████████| 412/412 [00:05<00:00, 71.02it/s]\n",
      "loading GSV: 100%|██████████| 412/412 [00:09<00:00, 42.89it/s]\n"
     ]
    },
    {
     "name": "stdout",
     "output_type": "stream",
     "text": [
      "===================================================\n",
      "41\n",
      "['นครศรีธรรมราช', 'เขาแก้ว', 'ลานสกา']\n"
     ]
    },
    {
     "name": "stderr",
     "output_type": "stream",
     "text": [
      "converting linestrings to coordinates: 100%|██████████| 66/66 [00:03<00:00, 19.70it/s]\n",
      "loading GSV: 100%|██████████| 66/66 [00:04<00:00, 13.38it/s]\n"
     ]
    },
    {
     "name": "stdout",
     "output_type": "stream",
     "text": [
      "===================================================\n",
      "42\n",
      "['นครศรีธรรมราช', 'จันดี', 'ฉวาง']\n"
     ]
    },
    {
     "name": "stderr",
     "output_type": "stream",
     "text": [
      "converting linestrings to coordinates: 100%|██████████| 100/100 [00:01<00:00, 50.55it/s]\n",
      "loading GSV: 100%|██████████| 100/100 [00:03<00:00, 25.79it/s]\n"
     ]
    },
    {
     "name": "stdout",
     "output_type": "stream",
     "text": [
      "===================================================\n",
      "43\n",
      "['นครศรีธรรมราช', 'บางจาก', 'เมืองนครศรีธรรมราช']\n"
     ]
    },
    {
     "name": "stderr",
     "output_type": "stream",
     "text": [
      "converting linestrings to coordinates: 100%|██████████| 233/233 [00:06<00:00, 36.18it/s]\n",
      "loading GSV: 100%|██████████| 233/233 [00:12<00:00, 18.99it/s]\n"
     ]
    },
    {
     "name": "stdout",
     "output_type": "stream",
     "text": [
      "===================================================\n",
      "44\n",
      "['นครศรีธรรมราช', 'คลองน้อย', 'ปากพนัง']\n"
     ]
    },
    {
     "name": "stderr",
     "output_type": "stream",
     "text": [
      "converting linestrings to coordinates: 100%|██████████| 199/199 [00:06<00:00, 30.14it/s]\n",
      "loading GSV: 100%|██████████| 199/199 [00:11<00:00, 17.54it/s]\n"
     ]
    },
    {
     "name": "stdout",
     "output_type": "stream",
     "text": [
      "===================================================\n",
      "45\n",
      "['นครศรีธรรมราช', 'ไชยมนตรี', 'เมืองนครศรีธรรมราช']\n"
     ]
    },
    {
     "name": "stderr",
     "output_type": "stream",
     "text": [
      "converting linestrings to coordinates: 100%|██████████| 92/92 [00:05<00:00, 18.36it/s]\n",
      "loading GSV: 100%|██████████| 92/92 [00:07<00:00, 12.76it/s]\n"
     ]
    },
    {
     "name": "stdout",
     "output_type": "stream",
     "text": [
      "===================================================\n",
      "46\n",
      "['นครศรีธรรมราช', 'มะม่วงสองต้น', 'เมืองนครศรีธรรมราช']\n"
     ]
    },
    {
     "name": "stderr",
     "output_type": "stream",
     "text": [
      "converting linestrings to coordinates: 100%|██████████| 106/106 [00:02<00:00, 45.14it/s]\n",
      "loading GSV: 100%|██████████| 106/106 [00:02<00:00, 35.52it/s]\n"
     ]
    },
    {
     "name": "stdout",
     "output_type": "stream",
     "text": [
      "===================================================\n",
      "47\n",
      "['นครศรีธรรมราช', 'ทุ่งใหญ่', 'ทุ่งใหญ่']\n"
     ]
    },
    {
     "name": "stderr",
     "output_type": "stream",
     "text": [
      "converting linestrings to coordinates: 100%|██████████| 79/79 [00:07<00:00, 10.53it/s]\n",
      "loading GSV: 100%|██████████| 79/79 [00:14<00:00,  5.53it/s]\n"
     ]
    },
    {
     "name": "stdout",
     "output_type": "stream",
     "text": [
      "===================================================\n",
      "48\n",
      "['นครศรีธรรมราช', 'ท่าเรือ', 'เมืองนครศรีธรรมราช']\n"
     ]
    },
    {
     "name": "stderr",
     "output_type": "stream",
     "text": [
      "converting linestrings to coordinates: 100%|██████████| 342/342 [00:10<00:00, 33.95it/s]\n",
      "loading GSV: 100%|██████████| 342/342 [00:17<00:00, 19.40it/s]\n"
     ]
    },
    {
     "name": "stdout",
     "output_type": "stream",
     "text": [
      "===================================================\n",
      "49\n",
      "['นครศรีธรรมราช', 'นาสาร', 'พระพรหม']\n"
     ]
    },
    {
     "name": "stderr",
     "output_type": "stream",
     "text": [
      "converting linestrings to coordinates: 100%|██████████| 209/209 [00:06<00:00, 30.33it/s]\n",
      "loading GSV: 100%|██████████| 209/209 [00:10<00:00, 20.54it/s]\n"
     ]
    },
    {
     "name": "stdout",
     "output_type": "stream",
     "text": [
      "===================================================\n",
      "50\n",
      "['นครศรีธรรมราช', 'ปากพนังฝั่งตะวันตก', 'ปากพนัง']\n"
     ]
    },
    {
     "name": "stderr",
     "output_type": "stream",
     "text": [
      "converting linestrings to coordinates: 100%|██████████| 172/172 [00:03<00:00, 47.32it/s]\n",
      "loading GSV: 100%|██████████| 172/172 [00:06<00:00, 28.43it/s]\n"
     ]
    },
    {
     "name": "stdout",
     "output_type": "stream",
     "text": [
      "===================================================\n",
      "51\n",
      "['นครศรีธรรมราช', 'หลักช้าง', 'ช้างกลาง']\n"
     ]
    },
    {
     "name": "stderr",
     "output_type": "stream",
     "text": [
      "converting linestrings to coordinates: 100%|██████████| 106/106 [00:04<00:00, 22.97it/s]\n",
      "loading GSV: 100%|██████████| 106/106 [00:07<00:00, 14.84it/s]\n"
     ]
    },
    {
     "name": "stdout",
     "output_type": "stream",
     "text": [
      "===================================================\n",
      "52\n",
      "['นครศรีธรรมราช', 'ช้างซ้าย', 'พระพรหม']\n"
     ]
    },
    {
     "name": "stderr",
     "output_type": "stream",
     "text": [
      "converting linestrings to coordinates: 100%|██████████| 173/173 [00:06<00:00, 28.59it/s]\n",
      "loading GSV: 100%|██████████| 173/173 [00:08<00:00, 20.14it/s]\n"
     ]
    },
    {
     "name": "stdout",
     "output_type": "stream",
     "text": [
      "===================================================\n",
      "53\n",
      "['นครศรีธรรมราช', 'ทุ่งสง', 'นาบอน']\n"
     ]
    },
    {
     "name": "stderr",
     "output_type": "stream",
     "text": [
      "converting linestrings to coordinates: 100%|██████████| 35/35 [00:08<00:00,  4.15it/s]\n",
      "loading GSV: 100%|██████████| 35/35 [00:17<00:00,  2.03it/s]\n"
     ]
    },
    {
     "name": "stdout",
     "output_type": "stream",
     "text": [
      "===================================================\n",
      "54\n",
      "['นครศรีธรรมราช', 'ขุนทะเล', 'ลานสกา']\n"
     ]
    },
    {
     "name": "stderr",
     "output_type": "stream",
     "text": [
      "converting linestrings to coordinates: 100%|██████████| 105/105 [00:06<00:00, 15.68it/s]\n",
      "loading GSV: 100%|██████████| 105/105 [00:10<00:00,  9.60it/s]\n"
     ]
    },
    {
     "name": "stdout",
     "output_type": "stream",
     "text": [
      "===================================================\n",
      "55\n",
      "['นครศรีธรรมราช', 'นาพรุ', 'พระพรหม']\n"
     ]
    },
    {
     "name": "stderr",
     "output_type": "stream",
     "text": [
      "converting linestrings to coordinates: 100%|██████████| 128/128 [00:05<00:00, 23.60it/s]\n",
      "loading GSV: 100%|██████████| 128/128 [00:09<00:00, 13.80it/s]\n"
     ]
    },
    {
     "name": "stdout",
     "output_type": "stream",
     "text": [
      "===================================================\n",
      "56\n",
      "['นครศรีธรรมราช', 'บางพระ', 'ปากพนัง']\n"
     ]
    },
    {
     "name": "stderr",
     "output_type": "stream",
     "text": [
      "converting linestrings to coordinates: 100%|██████████| 87/87 [00:04<00:00, 17.54it/s]\n",
      "loading GSV: 100%|██████████| 87/87 [00:09<00:00,  9.25it/s]\n"
     ]
    },
    {
     "name": "stdout",
     "output_type": "stream",
     "text": [
      "===================================================\n",
      "57\n",
      "['นครศรีธรรมราช', 'ปริก', 'ทุ่งใหญ่']\n"
     ]
    },
    {
     "name": "stderr",
     "output_type": "stream",
     "text": [
      "converting linestrings to coordinates: 100%|██████████| 41/41 [00:09<00:00,  4.42it/s]\n",
      "loading GSV: 100%|██████████| 41/41 [00:18<00:00,  2.19it/s]\n"
     ]
    },
    {
     "name": "stdout",
     "output_type": "stream",
     "text": [
      "===================================================\n",
      "58\n",
      "['นครศรีธรรมราช', 'ลานสกา', 'ลานสกา']\n"
     ]
    },
    {
     "name": "stderr",
     "output_type": "stream",
     "text": [
      "converting linestrings to coordinates: 100%|██████████| 47/47 [00:02<00:00, 22.26it/s]\n",
      "loading GSV: 100%|██████████| 47/47 [00:02<00:00, 17.62it/s]\n"
     ]
    },
    {
     "name": "stdout",
     "output_type": "stream",
     "text": [
      "===================================================\n",
      "59\n",
      "['นครศรีธรรมราช', 'แก้วแสน', 'นาบอน']\n"
     ]
    },
    {
     "name": "stderr",
     "output_type": "stream",
     "text": [
      "converting linestrings to coordinates: 100%|██████████| 49/49 [00:07<00:00,  6.75it/s]\n",
      "loading GSV: 100%|██████████| 49/49 [00:13<00:00,  3.66it/s]\n"
     ]
    },
    {
     "name": "stdout",
     "output_type": "stream",
     "text": [
      "===================================================\n",
      "60\n",
      "['นครศรีธรรมราช', 'หูล่อง', 'ปากพนัง']\n"
     ]
    },
    {
     "name": "stderr",
     "output_type": "stream",
     "text": [
      "converting linestrings to coordinates: 100%|██████████| 170/170 [00:03<00:00, 47.81it/s]\n",
      "loading GSV: 100%|██████████| 170/170 [00:05<00:00, 28.74it/s]\n"
     ]
    },
    {
     "name": "stdout",
     "output_type": "stream",
     "text": [
      "===================================================\n",
      "61\n",
      "['นครศรีธรรมราช', 'คลองกระบือ', 'ปากพนัง']\n"
     ]
    },
    {
     "name": "stderr",
     "output_type": "stream",
     "text": [
      "converting linestrings to coordinates: 100%|██████████| 146/146 [00:04<00:00, 31.70it/s]\n",
      "loading GSV: 100%|██████████| 146/146 [00:07<00:00, 19.30it/s]\n"
     ]
    },
    {
     "name": "stdout",
     "output_type": "stream",
     "text": [
      "===================================================\n",
      "62\n",
      "['นครศรีธรรมราช', 'ท่ายาง', 'ทุ่งใหญ่']\n"
     ]
    },
    {
     "name": "stderr",
     "output_type": "stream",
     "text": [
      "converting linestrings to coordinates: 100%|██████████| 152/152 [00:09<00:00, 16.00it/s]\n",
      "loading GSV: 100%|██████████| 152/152 [00:15<00:00, 10.01it/s]\n"
     ]
    },
    {
     "name": "stdout",
     "output_type": "stream",
     "text": [
      "===================================================\n",
      "63\n",
      "['นครศรีธรรมราช', 'ชะเมา', 'ปากพนัง']\n"
     ]
    },
    {
     "name": "stderr",
     "output_type": "stream",
     "text": [
      "converting linestrings to coordinates: 100%|██████████| 123/123 [00:04<00:00, 27.54it/s]\n",
      "loading GSV: 100%|██████████| 123/123 [00:07<00:00, 16.24it/s]\n"
     ]
    },
    {
     "name": "stdout",
     "output_type": "stream",
     "text": [
      "===================================================\n",
      "64\n",
      "['นครศรีธรรมราช', 'ท้ายสำเภา', 'พระพรหม']\n"
     ]
    },
    {
     "name": "stderr",
     "output_type": "stream",
     "text": [
      "converting linestrings to coordinates: 100%|██████████| 131/131 [00:06<00:00, 21.32it/s]\n",
      "loading GSV: 100%|██████████| 131/131 [00:09<00:00, 14.33it/s]\n"
     ]
    },
    {
     "name": "stdout",
     "output_type": "stream",
     "text": [
      "===================================================\n",
      "65\n",
      "['นครศรีธรรมราช', 'หินตก', 'ร่อนพิบูลย์']\n"
     ]
    },
    {
     "name": "stderr",
     "output_type": "stream",
     "text": [
      "converting linestrings to coordinates: 100%|██████████| 219/219 [00:09<00:00, 23.14it/s]\n",
      "loading GSV: 100%|██████████| 219/219 [00:13<00:00, 16.39it/s]\n"
     ]
    },
    {
     "name": "stdout",
     "output_type": "stream",
     "text": [
      "===================================================\n",
      "66\n",
      "['นครศรีธรรมราช', 'เกาะทวด', 'ปากพนัง']\n"
     ]
    },
    {
     "name": "stderr",
     "output_type": "stream",
     "text": [
      "converting linestrings to coordinates: 100%|██████████| 148/148 [00:04<00:00, 31.13it/s]\n",
      "loading GSV: 100%|██████████| 148/148 [00:08<00:00, 17.36it/s]\n"
     ]
    },
    {
     "name": "stdout",
     "output_type": "stream",
     "text": [
      "===================================================\n",
      "67\n",
      "['นครศรีธรรมราช', 'บ้านเพิง', 'ปากพนัง']\n"
     ]
    },
    {
     "name": "stderr",
     "output_type": "stream",
     "text": [
      "converting linestrings to coordinates: 100%|██████████| 34/34 [00:02<00:00, 12.58it/s]\n",
      "loading GSV: 100%|██████████| 34/34 [00:03<00:00,  9.67it/s]\n"
     ]
    },
    {
     "name": "stdout",
     "output_type": "stream",
     "text": [
      "===================================================\n",
      "68\n",
      "['นครศรีธรรมราช', 'ปากแพรก', 'ปากพนัง']\n"
     ]
    },
    {
     "name": "stderr",
     "output_type": "stream",
     "text": [
      "converting linestrings to coordinates: 100%|██████████| 78/78 [00:04<00:00, 17.37it/s]\n",
      "loading GSV: 100%|██████████| 78/78 [00:07<00:00, 10.57it/s]\n"
     ]
    },
    {
     "name": "stdout",
     "output_type": "stream",
     "text": [
      "===================================================\n",
      "69\n",
      "['นครศรีธรรมราช', 'บ้านใหม่', 'ปากพนัง']\n"
     ]
    },
    {
     "name": "stderr",
     "output_type": "stream",
     "text": [
      "converting linestrings to coordinates: 100%|██████████| 104/104 [00:02<00:00, 37.04it/s]\n",
      "loading GSV: 100%|██████████| 104/104 [00:04<00:00, 22.29it/s]\n"
     ]
    },
    {
     "name": "stdout",
     "output_type": "stream",
     "text": [
      "===================================================\n",
      "70\n",
      "['นครศรีธรรมราช', 'ท่าพญา', 'ปากพนัง']\n"
     ]
    },
    {
     "name": "stderr",
     "output_type": "stream",
     "text": [
      "converting linestrings to coordinates: 100%|██████████| 57/57 [00:04<00:00, 12.48it/s]\n",
      "loading GSV: 100%|██████████| 57/57 [01:15<00:00,  1.32s/it]\n"
     ]
    },
    {
     "name": "stdout",
     "output_type": "stream",
     "text": [
      "===================================================\n",
      "71\n",
      "['นครศรีธรรมราช', 'นาหลวงเสน', 'ทุ่งสง']\n"
     ]
    },
    {
     "name": "stderr",
     "output_type": "stream",
     "text": [
      "converting linestrings to coordinates: 100%|██████████| 42/42 [00:02<00:00, 16.52it/s]\n",
      "loading GSV: 100%|██████████| 42/42 [00:53<00:00,  1.28s/it]\n"
     ]
    },
    {
     "name": "stdout",
     "output_type": "stream",
     "text": [
      "===================================================\n",
      "72\n",
      "['นครศรีธรรมราช', 'เสาธง', 'ร่อนพิบูลย์']\n"
     ]
    },
    {
     "name": "stderr",
     "output_type": "stream",
     "text": [
      "converting linestrings to coordinates: 100%|██████████| 106/106 [00:05<00:00, 20.74it/s]\n",
      "loading GSV: 100%|██████████| 106/106 [00:58<00:00,  1.81it/s]\n"
     ]
    },
    {
     "name": "stdout",
     "output_type": "stream",
     "text": [
      "===================================================\n",
      "73\n",
      "['นครศรีธรรมราช', 'นาบอน', 'นาบอน']\n"
     ]
    },
    {
     "name": "stderr",
     "output_type": "stream",
     "text": [
      "converting linestrings to coordinates: 100%|██████████| 100/100 [00:09<00:00, 10.80it/s]\n",
      "loading GSV: 100%|██████████| 100/100 [01:15<00:00,  1.32it/s]\n"
     ]
    },
    {
     "name": "stdout",
     "output_type": "stream",
     "text": [
      "===================================================\n",
      "74\n",
      "['นครศรีธรรมราช', 'ป่าระกำ', 'ปากพนัง']\n"
     ]
    },
    {
     "name": "stderr",
     "output_type": "stream",
     "text": [
      "converting linestrings to coordinates: 100%|██████████| 168/168 [00:04<00:00, 34.77it/s]\n",
      "loading GSV: 100%|██████████| 168/168 [01:24<00:00,  1.99it/s]\n"
     ]
    },
    {
     "name": "stdout",
     "output_type": "stream",
     "text": [
      "===================================================\n",
      "75\n",
      "['นครศรีธรรมราช', 'ทางพูน', 'เฉลิมพระเกียรติ']\n"
     ]
    },
    {
     "name": "stderr",
     "output_type": "stream",
     "text": [
      "converting linestrings to coordinates: 100%|██████████| 125/125 [00:09<00:00, 13.61it/s]\n",
      "loading GSV: 100%|██████████| 125/125 [02:59<00:00,  1.43s/it]\n"
     ]
    },
    {
     "name": "stdout",
     "output_type": "stream",
     "text": [
      "===================================================\n",
      "76\n",
      "['นครศรีธรรมราช', 'บางศาลา', 'ปากพนัง']\n"
     ]
    },
    {
     "name": "stderr",
     "output_type": "stream",
     "text": [
      "converting linestrings to coordinates: 100%|██████████| 69/69 [00:02<00:00, 30.19it/s]\n",
      "loading GSV: 100%|██████████| 69/69 [00:33<00:00,  2.03it/s]\n"
     ]
    },
    {
     "name": "stdout",
     "output_type": "stream",
     "text": [
      "===================================================\n",
      "77\n",
      "['นครศรีธรรมราช', 'กุแหระ', 'ทุ่งใหญ่']\n"
     ]
    },
    {
     "name": "stderr",
     "output_type": "stream",
     "text": [
      "converting linestrings to coordinates: 100%|██████████| 70/70 [00:07<00:00,  9.50it/s]\n",
      "loading GSV: 100%|██████████| 70/70 [01:42<00:00,  1.47s/it]\n"
     ]
    },
    {
     "name": "stdout",
     "output_type": "stream",
     "text": [
      "===================================================\n",
      "78\n",
      "['นครศรีธรรมราช', 'กรุงหยัน', 'ทุ่งใหญ่']\n"
     ]
    },
    {
     "name": "stderr",
     "output_type": "stream",
     "text": [
      "converting linestrings to coordinates: 100%|██████████| 78/78 [00:07<00:00, 10.09it/s]\n",
      "loading GSV: 100%|██████████| 78/78 [01:18<00:00,  1.01s/it]\n"
     ]
    },
    {
     "name": "stdout",
     "output_type": "stream",
     "text": [
      "===================================================\n",
      "79\n",
      "['นครศรีธรรมราช', 'ถ้ำใหญ่', 'ทุ่งสง']\n"
     ]
    },
    {
     "name": "stderr",
     "output_type": "stream",
     "text": [
      "converting linestrings to coordinates: 100%|██████████| 143/143 [00:11<00:00, 12.79it/s]\n",
      "loading GSV: 100%|██████████| 143/143 [05:23<00:00,  2.26s/it] \n"
     ]
    },
    {
     "name": "stdout",
     "output_type": "stream",
     "text": [
      "===================================================\n",
      "80\n",
      "['นครศรีธรรมราช', 'บางตะพง', 'ปากพนัง']\n"
     ]
    },
    {
     "name": "stderr",
     "output_type": "stream",
     "text": [
      "converting linestrings to coordinates: 100%|██████████| 85/85 [00:02<00:00, 33.56it/s]\n",
      "loading GSV: 100%|██████████| 85/85 [00:27<00:00,  3.08it/s]\n"
     ]
    },
    {
     "name": "stdout",
     "output_type": "stream",
     "text": [
      "===================================================\n",
      "81\n",
      "['นครศรีธรรมราช', 'ดอนตรอ', 'เฉลิมพระเกียรติ']\n"
     ]
    },
    {
     "name": "stderr",
     "output_type": "stream",
     "text": [
      "converting linestrings to coordinates: 100%|██████████| 65/65 [00:03<00:00, 16.74it/s]\n",
      "loading GSV: 100%|██████████| 65/65 [00:54<00:00,  1.20it/s]\n"
     ]
    },
    {
     "name": "stdout",
     "output_type": "stream",
     "text": [
      "===================================================\n",
      "82\n",
      "['นครศรีธรรมราช', 'ขนาบนาก', 'ปากพนัง']\n"
     ]
    },
    {
     "name": "stderr",
     "output_type": "stream",
     "text": [
      "converting linestrings to coordinates: 100%|██████████| 106/106 [00:05<00:00, 18.98it/s]\n",
      "loading GSV: 100%|██████████| 106/106 [01:11<00:00,  1.49it/s]\n"
     ]
    },
    {
     "name": "stdout",
     "output_type": "stream",
     "text": [
      "===================================================\n",
      "83\n",
      "['นครศรีธรรมราช', 'นาโพธิ์', 'ทุ่งสง']\n"
     ]
    },
    {
     "name": "stderr",
     "output_type": "stream",
     "text": [
      "converting linestrings to coordinates: 100%|██████████| 51/51 [00:06<00:00,  8.47it/s]\n",
      "loading GSV: 100%|██████████| 51/51 [00:47<00:00,  1.07it/s]\n"
     ]
    },
    {
     "name": "stdout",
     "output_type": "stream",
     "text": [
      "===================================================\n",
      "84\n",
      "['นครศรีธรรมราช', 'ร่อนพิบูลย์', 'ร่อนพิบูลย์']\n"
     ]
    },
    {
     "name": "stderr",
     "output_type": "stream",
     "text": [
      "converting linestrings to coordinates: 100%|██████████| 279/279 [00:16<00:00, 16.54it/s]\n",
      "loading GSV: 100%|██████████| 279/279 [02:47<00:00,  1.67it/s]\n"
     ]
    },
    {
     "name": "stdout",
     "output_type": "stream",
     "text": [
      "===================================================\n",
      "85\n",
      "['นครศรีธรรมราช', 'เชียรเขา', 'เฉลิมพระเกียรติ']\n"
     ]
    },
    {
     "name": "stderr",
     "output_type": "stream",
     "text": [
      "converting linestrings to coordinates: 100%|██████████| 133/133 [00:07<00:00, 18.23it/s]\n",
      "loading GSV: 100%|██████████| 133/133 [01:39<00:00,  1.34it/s]\n"
     ]
    },
    {
     "name": "stdout",
     "output_type": "stream",
     "text": [
      "===================================================\n",
      "86\n",
      "['นครศรีธรรมราช', 'เขาขาว', 'ทุ่งสง']\n"
     ]
    },
    {
     "name": "stderr",
     "output_type": "stream",
     "text": [
      "converting linestrings to coordinates: 100%|██████████| 58/58 [00:07<00:00,  7.76it/s]\n",
      "loading GSV: 100%|██████████| 58/58 [01:50<00:00,  1.91s/it]\n"
     ]
    },
    {
     "name": "stdout",
     "output_type": "stream",
     "text": [
      "===================================================\n",
      "87\n",
      "['นครศรีธรรมราช', 'ไสหมาก', 'เชียรใหญ่']\n"
     ]
    },
    {
     "name": "stderr",
     "output_type": "stream",
     "text": [
      "converting linestrings to coordinates: 100%|██████████| 164/164 [00:04<00:00, 37.97it/s]\n",
      "loading GSV: 100%|██████████| 164/164 [01:01<00:00,  2.66it/s]\n"
     ]
    },
    {
     "name": "stdout",
     "output_type": "stream",
     "text": [
      "===================================================\n",
      "88\n",
      "['นครศรีธรรมราช', 'หนองหงส์', 'ทุ่งสง']\n"
     ]
    },
    {
     "name": "stderr",
     "output_type": "stream",
     "text": [
      "converting linestrings to coordinates: 100%|██████████| 116/116 [00:06<00:00, 16.63it/s]\n",
      "loading GSV: 100%|██████████| 116/116 [00:39<00:00,  2.93it/s]\n"
     ]
    },
    {
     "name": "stdout",
     "output_type": "stream",
     "text": [
      "===================================================\n",
      "89\n",
      "['นครศรีธรรมราช', 'เชียรใหญ่', 'เชียรใหญ่']\n"
     ]
    },
    {
     "name": "stderr",
     "output_type": "stream",
     "text": [
      "converting linestrings to coordinates: 100%|██████████| 119/119 [00:02<00:00, 39.96it/s]\n",
      "loading GSV: 100%|██████████| 119/119 [00:44<00:00,  2.69it/s]\n"
     ]
    },
    {
     "name": "stdout",
     "output_type": "stream",
     "text": [
      "===================================================\n",
      "90\n",
      "['นครศรีธรรมราช', 'ควนชุม', 'ร่อนพิบูลย์']\n"
     ]
    },
    {
     "name": "stderr",
     "output_type": "stream",
     "text": [
      "converting linestrings to coordinates: 100%|██████████| 38/38 [00:04<00:00,  8.87it/s]\n",
      "loading GSV: 100%|██████████| 38/38 [00:38<00:00,  1.02s/it]\n"
     ]
    },
    {
     "name": "stdout",
     "output_type": "stream",
     "text": [
      "===================================================\n",
      "91\n",
      "['นครศรีธรรมราช', 'ควนพัง', 'ร่อนพิบูลย์']\n"
     ]
    },
    {
     "name": "stderr",
     "output_type": "stream",
     "text": [
      "converting linestrings to coordinates: 100%|██████████| 86/86 [00:07<00:00, 11.18it/s]\n",
      "loading GSV: 100%|██████████| 86/86 [01:31<00:00,  1.07s/it]\n"
     ]
    },
    {
     "name": "stdout",
     "output_type": "stream",
     "text": [
      "===================================================\n",
      "92\n",
      "['นครศรีธรรมราช', 'บ้านเนิน', 'เชียรใหญ่']\n"
     ]
    },
    {
     "name": "stderr",
     "output_type": "stream",
     "text": [
      "converting linestrings to coordinates: 100%|██████████| 72/72 [00:03<00:00, 19.23it/s]\n",
      "loading GSV: 100%|██████████| 72/72 [01:11<00:00,  1.01it/s]\n"
     ]
    },
    {
     "name": "stdout",
     "output_type": "stream",
     "text": [
      "===================================================\n",
      "93\n",
      "['นครศรีธรรมราช', 'ชะมาย', 'ทุ่งสง']\n"
     ]
    },
    {
     "name": "stderr",
     "output_type": "stream",
     "text": [
      "converting linestrings to coordinates: 100%|██████████| 220/220 [00:11<00:00, 19.74it/s]\n",
      "loading GSV: 100%|██████████| 220/220 [01:40<00:00,  2.20it/s]\n"
     ]
    },
    {
     "name": "stdout",
     "output_type": "stream",
     "text": [
      "===================================================\n",
      "94\n",
      "['นครศรีธรรมราช', 'เสือหึง', 'เชียรใหญ่']\n"
     ]
    },
    {
     "name": "stderr",
     "output_type": "stream",
     "text": [
      "converting linestrings to coordinates: 100%|██████████| 98/98 [00:05<00:00, 18.10it/s]\n",
      "loading GSV: 100%|██████████| 98/98 [01:32<00:00,  1.06it/s]\n"
     ]
    },
    {
     "name": "stdout",
     "output_type": "stream",
     "text": [
      "===================================================\n",
      "95\n",
      "['นครศรีธรรมราช', 'สวนหลวง', 'เฉลิมพระเกียรติ']\n"
     ]
    },
    {
     "name": "stderr",
     "output_type": "stream",
     "text": [
      "converting linestrings to coordinates: 100%|██████████| 179/179 [00:09<00:00, 18.71it/s]\n",
      "loading GSV: 100%|██████████| 179/179 [01:45<00:00,  1.69it/s]\n"
     ]
    },
    {
     "name": "stdout",
     "output_type": "stream",
     "text": [
      "===================================================\n",
      "96\n",
      "['นครศรีธรรมราช', 'ปากแพรก', 'ทุ่งสง']\n"
     ]
    },
    {
     "name": "stderr",
     "output_type": "stream",
     "text": [
      "converting linestrings to coordinates: 100%|██████████| 281/281 [00:10<00:00, 27.39it/s]\n",
      "loading GSV: 100%|██████████| 281/281 [00:51<00:00,  5.49it/s]\n"
     ]
    },
    {
     "name": "stdout",
     "output_type": "stream",
     "text": [
      "===================================================\n",
      "97\n",
      "['นครศรีธรรมราช', 'ควนกรด', 'ทุ่งสง']\n"
     ]
    },
    {
     "name": "stderr",
     "output_type": "stream",
     "text": [
      "converting linestrings to coordinates: 100%|██████████| 109/109 [00:08<00:00, 13.39it/s]\n",
      "loading GSV: 100%|██████████| 109/109 [01:09<00:00,  1.57it/s]\n"
     ]
    },
    {
     "name": "stdout",
     "output_type": "stream",
     "text": [
      "===================================================\n",
      "98\n",
      "['นครศรีธรรมราช', 'บ้านกลาง', 'เชียรใหญ่']\n"
     ]
    },
    {
     "name": "stderr",
     "output_type": "stream",
     "text": [
      "converting linestrings to coordinates: 100%|██████████| 47/47 [00:02<00:00, 15.97it/s]\n",
      "loading GSV: 100%|██████████| 47/47 [00:12<00:00,  3.79it/s]\n"
     ]
    },
    {
     "name": "stdout",
     "output_type": "stream",
     "text": [
      "===================================================\n",
      "99\n",
      "['นครศรีธรรมราช', 'ท้องลำเจียก', 'เชียรใหญ่']\n"
     ]
    },
    {
     "name": "stderr",
     "output_type": "stream",
     "text": [
      "converting linestrings to coordinates: 100%|██████████| 164/164 [00:05<00:00, 30.93it/s]\n",
      "loading GSV: 100%|██████████| 164/164 [00:51<00:00,  3.19it/s]\n"
     ]
    },
    {
     "name": "stdout",
     "output_type": "stream",
     "text": [
      "===================================================\n",
      "100\n",
      "['นครศรีธรรมราช', 'ท่าซอม', 'หัวไทร']\n"
     ]
    },
    {
     "name": "stderr",
     "output_type": "stream",
     "text": [
      "converting linestrings to coordinates: 100%|██████████| 82/82 [00:04<00:00, 16.99it/s]\n",
      "loading GSV: 100%|██████████| 82/82 [00:57<00:00,  1.42it/s]\n"
     ]
    },
    {
     "name": "stdout",
     "output_type": "stream",
     "text": [
      "===================================================\n",
      "101\n",
      "['นครศรีธรรมราช', 'เกาะเพชร', 'หัวไทร']\n"
     ]
    },
    {
     "name": "stderr",
     "output_type": "stream",
     "text": [
      "converting linestrings to coordinates: 100%|██████████| 97/97 [00:04<00:00, 20.71it/s]\n",
      "loading GSV: 100%|██████████| 97/97 [01:17<00:00,  1.26it/s]\n"
     ]
    },
    {
     "name": "stdout",
     "output_type": "stream",
     "text": [
      "===================================================\n",
      "102\n",
      "['นครศรีธรรมราช', 'ท่าขนาน', 'เชียรใหญ่']\n"
     ]
    },
    {
     "name": "stderr",
     "output_type": "stream",
     "text": [
      "converting linestrings to coordinates: 100%|██████████| 44/44 [00:01<00:00, 22.21it/s]\n",
      "loading GSV: 100%|██████████| 44/44 [00:32<00:00,  1.34it/s]\n"
     ]
    },
    {
     "name": "stdout",
     "output_type": "stream",
     "text": [
      "===================================================\n",
      "103\n",
      "['นครศรีธรรมราช', 'ควนเกย', 'ร่อนพิบูลย์']\n"
     ]
    },
    {
     "name": "stderr",
     "output_type": "stream",
     "text": [
      "converting linestrings to coordinates: 100%|██████████| 110/110 [00:05<00:00, 21.93it/s]\n",
      "loading GSV: 100%|██████████| 110/110 [00:48<00:00,  2.26it/s]\n"
     ]
    },
    {
     "name": "stdout",
     "output_type": "stream",
     "text": [
      "===================================================\n",
      "104\n",
      "['นครศรีธรรมราช', 'นาไม้ไผ่', 'ทุ่งสง']\n"
     ]
    },
    {
     "name": "stderr",
     "output_type": "stream",
     "text": [
      "converting linestrings to coordinates: 100%|██████████| 72/72 [00:05<00:00, 12.01it/s]\n",
      "loading GSV: 100%|██████████| 72/72 [01:19<00:00,  1.10s/it]\n"
     ]
    },
    {
     "name": "stdout",
     "output_type": "stream",
     "text": [
      "===================================================\n",
      "105\n",
      "['นครศรีธรรมราช', 'ทุ่งโพธิ์', 'จุฬาภรณ์']\n"
     ]
    },
    {
     "name": "stderr",
     "output_type": "stream",
     "text": [
      "converting linestrings to coordinates: 100%|██████████| 92/92 [00:10<00:00,  8.40it/s]\n",
      "loading GSV: 100%|██████████| 92/92 [00:54<00:00,  1.69it/s]\n"
     ]
    },
    {
     "name": "stdout",
     "output_type": "stream",
     "text": [
      "===================================================\n",
      "106\n",
      "['นครศรีธรรมราช', 'บางขัน', 'บางขัน']\n"
     ]
    },
    {
     "name": "stderr",
     "output_type": "stream",
     "text": [
      "converting linestrings to coordinates: 100%|██████████| 83/83 [00:08<00:00,  9.69it/s]\n",
      "loading GSV: 100%|██████████| 83/83 [02:28<00:00,  1.79s/it]\n"
     ]
    },
    {
     "name": "stdout",
     "output_type": "stream",
     "text": [
      "===================================================\n",
      "107\n",
      "['นครศรีธรรมราช', 'ที่วัง', 'ทุ่งสง']\n"
     ]
    },
    {
     "name": "stderr",
     "output_type": "stream",
     "text": [
      "converting linestrings to coordinates: 100%|██████████| 86/86 [00:06<00:00, 13.46it/s]\n",
      "loading GSV: 100%|██████████| 86/86 [01:30<00:00,  1.05s/it]\n"
     ]
    },
    {
     "name": "stdout",
     "output_type": "stream",
     "text": [
      "===================================================\n",
      "108\n",
      "['นครศรีธรรมราช', 'การะเกด', 'เชียรใหญ่']\n"
     ]
    },
    {
     "name": "stderr",
     "output_type": "stream",
     "text": [
      "converting linestrings to coordinates: 100%|██████████| 128/128 [00:08<00:00, 15.83it/s]\n",
      "loading GSV: 100%|██████████| 128/128 [02:34<00:00,  1.20s/it]\n"
     ]
    },
    {
     "name": "stdout",
     "output_type": "stream",
     "text": [
      "===================================================\n",
      "109\n",
      "['นครศรีธรรมราช', 'ควนหนองคว้า', 'จุฬาภรณ์']\n"
     ]
    },
    {
     "name": "stderr",
     "output_type": "stream",
     "text": [
      "converting linestrings to coordinates: 100%|██████████| 49/49 [00:03<00:00, 15.48it/s]\n",
      "loading GSV: 100%|██████████| 49/49 [00:33<00:00,  1.44it/s]\n"
     ]
    },
    {
     "name": "stdout",
     "output_type": "stream",
     "text": [
      "===================================================\n",
      "110\n",
      "['นครศรีธรรมราช', 'บางนบ', 'หัวไทร']\n"
     ]
    },
    {
     "name": "stderr",
     "output_type": "stream",
     "text": [
      "converting linestrings to coordinates: 100%|██████████| 49/49 [00:03<00:00, 16.29it/s]\n",
      "loading GSV: 100%|██████████| 49/49 [00:38<00:00,  1.27it/s]\n"
     ]
    },
    {
     "name": "stdout",
     "output_type": "stream",
     "text": [
      "===================================================\n",
      "111\n",
      "['นครศรีธรรมราช', 'เขาพระบาท', 'เชียรใหญ่']\n"
     ]
    },
    {
     "name": "stderr",
     "output_type": "stream",
     "text": [
      "converting linestrings to coordinates: 100%|██████████| 63/63 [00:06<00:00,  9.74it/s]\n",
      "loading GSV: 100%|██████████| 63/63 [00:55<00:00,  1.14it/s]\n"
     ]
    },
    {
     "name": "stdout",
     "output_type": "stream",
     "text": [
      "===================================================\n",
      "112\n",
      "['นครศรีธรรมราช', 'แม่เจ้าอยู่หัว', 'เชียรใหญ่']\n"
     ]
    },
    {
     "name": "stderr",
     "output_type": "stream",
     "text": [
      "converting linestrings to coordinates: 100%|██████████| 124/124 [00:05<00:00, 23.63it/s]\n",
      "loading GSV: 100%|██████████| 124/124 [00:58<00:00,  2.11it/s]\n"
     ]
    },
    {
     "name": "stdout",
     "output_type": "stream",
     "text": [
      "===================================================\n",
      "113\n",
      "['นครศรีธรรมราช', 'สามตำบล', 'จุฬาภรณ์']\n"
     ]
    },
    {
     "name": "stderr",
     "output_type": "stream",
     "text": [
      "converting linestrings to coordinates: 100%|██████████| 63/63 [00:10<00:00,  6.06it/s]\n",
      "loading GSV: 100%|██████████| 63/63 [00:45<00:00,  1.39it/s]\n"
     ]
    },
    {
     "name": "stdout",
     "output_type": "stream",
     "text": [
      "===================================================\n",
      "114\n",
      "['นครศรีธรรมราช', 'บ้านตูล', 'ชะอวด']\n"
     ]
    },
    {
     "name": "stderr",
     "output_type": "stream",
     "text": [
      "converting linestrings to coordinates: 100%|██████████| 51/51 [00:06<00:00,  7.77it/s]\n",
      "loading GSV: 100%|██████████| 51/51 [01:35<00:00,  1.88s/it]\n"
     ]
    },
    {
     "name": "stdout",
     "output_type": "stream",
     "text": [
      "===================================================\n",
      "115\n",
      "['นครศรีธรรมราช', 'บ้านราม', 'หัวไทร']\n"
     ]
    },
    {
     "name": "stderr",
     "output_type": "stream",
     "text": [
      "converting linestrings to coordinates: 100%|██████████| 64/64 [00:04<00:00, 15.95it/s]\n",
      "loading GSV: 100%|██████████| 64/64 [00:54<00:00,  1.18it/s]\n"
     ]
    },
    {
     "name": "stdout",
     "output_type": "stream",
     "text": [
      "===================================================\n",
      "116\n",
      "['นครศรีธรรมราช', 'หัวไทร', 'หัวไทร']\n"
     ]
    },
    {
     "name": "stderr",
     "output_type": "stream",
     "text": [
      "converting linestrings to coordinates: 100%|██████████| 162/162 [00:09<00:00, 17.68it/s]\n",
      "loading GSV: 100%|██████████| 162/162 [02:49<00:00,  1.05s/it]\n"
     ]
    },
    {
     "name": "stdout",
     "output_type": "stream",
     "text": [
      "===================================================\n",
      "117\n",
      "['นครศรีธรรมราช', 'เขาโร', 'ทุ่งสง']\n"
     ]
    },
    {
     "name": "stderr",
     "output_type": "stream",
     "text": [
      "converting linestrings to coordinates: 100%|██████████| 62/62 [00:05<00:00, 11.47it/s]\n",
      "loading GSV: 100%|██████████| 62/62 [01:25<00:00,  1.38s/it]\n"
     ]
    },
    {
     "name": "stdout",
     "output_type": "stream",
     "text": [
      "===================================================\n",
      "118\n",
      "['นครศรีธรรมราช', 'บ้านชะอวด', 'จุฬาภรณ์']\n"
     ]
    },
    {
     "name": "stderr",
     "output_type": "stream",
     "text": [
      "converting linestrings to coordinates: 100%|██████████| 22/22 [00:01<00:00, 21.87it/s]\n",
      "loading GSV: 100%|██████████| 22/22 [00:10<00:00,  2.05it/s]\n"
     ]
    },
    {
     "name": "stdout",
     "output_type": "stream",
     "text": [
      "===================================================\n",
      "119\n",
      "['นครศรีธรรมราช', 'บ้านลำนาว', 'บางขัน']\n"
     ]
    },
    {
     "name": "stderr",
     "output_type": "stream",
     "text": [
      "converting linestrings to coordinates: 100%|██████████| 86/86 [00:10<00:00,  8.15it/s]\n",
      "loading GSV: 100%|██████████| 86/86 [03:10<00:00,  2.21s/it] \n"
     ]
    },
    {
     "name": "stdout",
     "output_type": "stream",
     "text": [
      "===================================================\n",
      "120\n",
      "['นครศรีธรรมราช', 'ทรายขาว', 'หัวไทร']\n"
     ]
    },
    {
     "name": "stderr",
     "output_type": "stream",
     "text": [
      "converting linestrings to coordinates: 100%|██████████| 139/139 [00:09<00:00, 14.29it/s]\n",
      "loading GSV: 100%|██████████| 139/139 [01:24<00:00,  1.65it/s]\n"
     ]
    },
    {
     "name": "stdout",
     "output_type": "stream",
     "text": [
      "===================================================\n",
      "121\n",
      "['นครศรีธรรมราช', 'วังหิน', 'บางขัน']\n"
     ]
    },
    {
     "name": "stderr",
     "output_type": "stream",
     "text": [
      "converting linestrings to coordinates: 100%|██████████| 50/50 [00:06<00:00,  7.75it/s]\n",
      "loading GSV: 100%|██████████| 50/50 [01:10<00:00,  1.40s/it]\n"
     ]
    },
    {
     "name": "stdout",
     "output_type": "stream",
     "text": [
      "===================================================\n",
      "122\n",
      "['นครศรีธรรมราช', 'นาหมอบุญ', 'จุฬาภรณ์']\n"
     ]
    },
    {
     "name": "stderr",
     "output_type": "stream",
     "text": [
      "converting linestrings to coordinates: 100%|██████████| 40/40 [00:09<00:00,  4.05it/s]\n",
      "loading GSV: 100%|██████████| 40/40 [01:06<00:00,  1.65s/it]\n"
     ]
    },
    {
     "name": "stdout",
     "output_type": "stream",
     "text": [
      "===================================================\n",
      "123\n",
      "['นครศรีธรรมราช', 'น้ำตก', 'ทุ่งสง']\n"
     ]
    },
    {
     "name": "stderr",
     "output_type": "stream",
     "text": [
      "converting linestrings to coordinates: 100%|██████████| 29/29 [00:04<00:00,  6.60it/s]\n",
      "loading GSV: 100%|██████████| 29/29 [01:20<00:00,  2.77s/it]\n"
     ]
    },
    {
     "name": "stdout",
     "output_type": "stream",
     "text": [
      "===================================================\n",
      "124\n",
      "['นครศรีธรรมราช', 'กะปาง', 'ทุ่งสง']\n"
     ]
    },
    {
     "name": "stderr",
     "output_type": "stream",
     "text": [
      "converting linestrings to coordinates: 100%|██████████| 178/178 [00:09<00:00, 19.55it/s]\n",
      "loading GSV: 100%|██████████| 178/178 [02:36<00:00,  1.14it/s]\n"
     ]
    },
    {
     "name": "stdout",
     "output_type": "stream",
     "text": [
      "===================================================\n",
      "125\n",
      "['นครศรีธรรมราช', 'ชะอวด', 'ชะอวด']\n"
     ]
    },
    {
     "name": "stderr",
     "output_type": "stream",
     "text": [
      "converting linestrings to coordinates: 100%|██████████| 192/192 [00:06<00:00, 30.61it/s]\n",
      "loading GSV: 100%|██████████| 192/192 [01:29<00:00,  2.14it/s]\n"
     ]
    },
    {
     "name": "stdout",
     "output_type": "stream",
     "text": [
      "===================================================\n",
      "126\n",
      "['นครศรีธรรมราช', 'บ้านควนมุด', 'จุฬาภรณ์']\n"
     ]
    },
    {
     "name": "stderr",
     "output_type": "stream",
     "text": [
      "converting linestrings to coordinates: 100%|██████████| 11/11 [00:07<00:00,  1.52it/s]\n",
      "loading GSV: 100%|██████████| 11/11 [00:21<00:00,  1.94s/it]\n"
     ]
    },
    {
     "name": "stdout",
     "output_type": "stream",
     "text": [
      "===================================================\n",
      "127\n",
      "['นครศรีธรรมราช', 'ควนหนองหงษ์', 'ชะอวด']\n"
     ]
    },
    {
     "name": "stderr",
     "output_type": "stream",
     "text": [
      "converting linestrings to coordinates: 100%|██████████| 45/45 [00:11<00:00,  4.08it/s]\n",
      "loading GSV: 100%|██████████| 45/45 [00:51<00:00,  1.14s/it]\n"
     ]
    },
    {
     "name": "stdout",
     "output_type": "stream",
     "text": [
      "===================================================\n",
      "128\n",
      "['นครศรีธรรมราช', 'เคร็ง', 'ชะอวด']\n"
     ]
    },
    {
     "name": "stderr",
     "output_type": "stream",
     "text": [
      "converting linestrings to coordinates: 100%|██████████| 111/111 [00:09<00:00, 12.30it/s]\n",
      "loading GSV: 100%|██████████| 111/111 [02:01<00:00,  1.09s/it]\n"
     ]
    },
    {
     "name": "stdout",
     "output_type": "stream",
     "text": [
      "===================================================\n",
      "129\n",
      "['นครศรีธรรมราช', 'แหลม', 'หัวไทร']\n"
     ]
    },
    {
     "name": "stderr",
     "output_type": "stream",
     "text": [
      "converting linestrings to coordinates: 100%|██████████| 108/108 [00:08<00:00, 12.24it/s]\n",
      "loading GSV: 100%|██████████| 108/108 [01:37<00:00,  1.10it/s]\n"
     ]
    },
    {
     "name": "stdout",
     "output_type": "stream",
     "text": [
      "===================================================\n",
      "130\n",
      "['นครศรีธรรมราช', 'เขาพังไกร', 'หัวไทร']\n"
     ]
    },
    {
     "name": "stderr",
     "output_type": "stream",
     "text": [
      "converting linestrings to coordinates: 100%|██████████| 56/56 [00:04<00:00, 12.43it/s]\n",
      "loading GSV: 100%|██████████| 56/56 [00:40<00:00,  1.38it/s]\n"
     ]
    },
    {
     "name": "stdout",
     "output_type": "stream",
     "text": [
      "===================================================\n",
      "131\n",
      "['นครศรีธรรมราช', 'ท่าประจะ', 'ชะอวด']\n"
     ]
    },
    {
     "name": "stderr",
     "output_type": "stream",
     "text": [
      "converting linestrings to coordinates: 100%|██████████| 86/86 [00:04<00:00, 20.22it/s]\n",
      "loading GSV: 100%|██████████| 86/86 [01:02<00:00,  1.37it/s]\n"
     ]
    },
    {
     "name": "stdout",
     "output_type": "stream",
     "text": [
      "===================================================\n",
      "132\n",
      "['นครศรีธรรมราช', 'บ้านนิคม', 'บางขัน']\n"
     ]
    },
    {
     "name": "stderr",
     "output_type": "stream",
     "text": [
      "converting linestrings to coordinates: 100%|██████████| 27/27 [00:04<00:00,  5.72it/s]\n",
      "loading GSV: 100%|██████████| 27/27 [00:51<00:00,  1.89s/it]\n"
     ]
    },
    {
     "name": "stdout",
     "output_type": "stream",
     "text": [
      "===================================================\n",
      "133\n",
      "['นครศรีธรรมราช', 'หน้าสตน', 'หัวไทร']\n"
     ]
    },
    {
     "name": "stderr",
     "output_type": "stream",
     "text": [
      "converting linestrings to coordinates: 100%|██████████| 22/22 [00:01<00:00, 17.12it/s]\n",
      "loading GSV: 100%|██████████| 22/22 [00:27<00:00,  1.26s/it]\n"
     ]
    },
    {
     "name": "stdout",
     "output_type": "stream",
     "text": [
      "===================================================\n",
      "134\n",
      "['นครศรีธรรมราช', 'เขาพระทอง', 'ชะอวด']\n"
     ]
    },
    {
     "name": "stderr",
     "output_type": "stream",
     "text": [
      "converting linestrings to coordinates: 100%|██████████| 51/51 [00:10<00:00,  4.72it/s]\n",
      "loading GSV: 100%|██████████| 51/51 [00:59<00:00,  1.16s/it]\n"
     ]
    },
    {
     "name": "stdout",
     "output_type": "stream",
     "text": [
      "===================================================\n",
      "135\n",
      "['นครศรีธรรมราช', 'รามแก้ว', 'หัวไทร']\n"
     ]
    },
    {
     "name": "stderr",
     "output_type": "stream",
     "text": [
      "converting linestrings to coordinates: 100%|██████████| 21/21 [00:01<00:00, 14.50it/s]\n",
      "loading GSV: 100%|██████████| 21/21 [00:26<00:00,  1.25s/it]\n"
     ]
    },
    {
     "name": "stdout",
     "output_type": "stream",
     "text": [
      "===================================================\n",
      "136\n",
      "['นครศรีธรรมราช', 'วังอ่าง', 'ชะอวด']\n"
     ]
    },
    {
     "name": "stderr",
     "output_type": "stream",
     "text": [
      "converting linestrings to coordinates: 100%|██████████| 62/62 [00:13<00:00,  4.60it/s]\n",
      "loading GSV: 100%|██████████| 62/62 [01:29<00:00,  1.45s/it]\n"
     ]
    },
    {
     "name": "stdout",
     "output_type": "stream",
     "text": [
      "===================================================\n",
      "137\n",
      "['นครศรีธรรมราช', 'ท่าเสม็ด', 'ชะอวด']\n"
     ]
    },
    {
     "name": "stderr",
     "output_type": "stream",
     "text": [
      "converting linestrings to coordinates: 100%|██████████| 61/61 [00:03<00:00, 18.42it/s]\n",
      "loading GSV: 100%|██████████| 61/61 [01:07<00:00,  1.11s/it]\n"
     ]
    },
    {
     "name": "stdout",
     "output_type": "stream",
     "text": [
      "===================================================\n",
      "138\n",
      "['นครศรีธรรมราช', 'เกาะขันธ์', 'ชะอวด']\n"
     ]
    },
    {
     "name": "stderr",
     "output_type": "stream",
     "text": [
      "converting linestrings to coordinates: 100%|██████████| 109/109 [00:13<00:00,  8.32it/s]\n",
      "loading GSV: 100%|██████████| 109/109 [02:05<00:00,  1.15s/it]\n"
     ]
    },
    {
     "name": "stdout",
     "output_type": "stream",
     "text": [
      "===================================================\n",
      "139\n",
      "['นครศรีธรรมราช', 'ควนชะลิก', 'หัวไทร']\n"
     ]
    },
    {
     "name": "stderr",
     "output_type": "stream",
     "text": [
      "converting linestrings to coordinates: 100%|██████████| 98/98 [00:06<00:00, 15.30it/s]\n",
      "loading GSV: 100%|██████████| 98/98 [01:27<00:00,  1.12it/s]\n"
     ]
    },
    {
     "name": "stdout",
     "output_type": "stream",
     "text": [
      "===================================================\n",
      "140\n",
      "['นครศรีธรรมราช', 'นางหลง', 'ชะอวด']\n"
     ]
    },
    {
     "name": "stderr",
     "output_type": "stream",
     "text": [
      "converting linestrings to coordinates: 100%|██████████| 82/82 [00:05<00:00, 15.39it/s]\n",
      "loading GSV: 100%|██████████| 82/82 [01:03<00:00,  1.29it/s]\n"
     ]
    },
    {
     "name": "stdout",
     "output_type": "stream",
     "text": [
      "===================================================\n",
      "141\n",
      "['นครศรีธรรมราช', 'ขอนหาด', 'ชะอวด']\n"
     ]
    },
    {
     "name": "stderr",
     "output_type": "stream",
     "text": [
      "converting linestrings to coordinates: 100%|██████████| 94/94 [00:05<00:00, 16.24it/s]\n",
      "loading GSV: 100%|██████████| 94/94 [01:45<00:00,  1.12s/it]\n"
     ]
    },
    {
     "name": "stdout",
     "output_type": "stream",
     "text": [
      "===================================================\n",
      "142\n",
      "['นครศรีธรรมราช', 'ท้องเนียน', 'ขนอม']\n"
     ]
    },
    {
     "name": "stderr",
     "output_type": "stream",
     "text": [
      "converting linestrings to coordinates: 0it [00:00, ?it/s]\n",
      "loading GSV: 0it [00:00, ?it/s]\n"
     ]
    },
    {
     "name": "stdout",
     "output_type": "stream",
     "text": [
      "===================================================\n",
      "143\n",
      "['นครศรีธรรมราช', 'ท้องเนียน', 'ขนอม']\n"
     ]
    },
    {
     "name": "stderr",
     "output_type": "stream",
     "text": [
      "converting linestrings to coordinates: 0it [00:00, ?it/s]\n",
      "loading GSV: 0it [00:00, ?it/s]\n"
     ]
    },
    {
     "name": "stdout",
     "output_type": "stream",
     "text": [
      "===================================================\n",
      "144\n",
      "['นครศรีธรรมราช', 'ควนทอง', 'ขนอม']\n"
     ]
    },
    {
     "name": "stderr",
     "output_type": "stream",
     "text": [
      "converting linestrings to coordinates: 100%|██████████| 137/137 [00:13<00:00, 10.54it/s]\n",
      "loading GSV: 100%|██████████| 137/137 [05:25<00:00,  2.38s/it]\n"
     ]
    },
    {
     "name": "stdout",
     "output_type": "stream",
     "text": [
      "===================================================\n",
      "145\n",
      "['นครศรีธรรมราช', 'ขนอม', 'ขนอม']\n"
     ]
    },
    {
     "name": "stderr",
     "output_type": "stream",
     "text": [
      "converting linestrings to coordinates: 100%|██████████| 159/159 [00:06<00:00, 23.20it/s]\n",
      "loading GSV: 100%|██████████| 159/159 [02:12<00:00,  1.20it/s]\n"
     ]
    },
    {
     "name": "stdout",
     "output_type": "stream",
     "text": [
      "===================================================\n",
      "146\n",
      "['นครศรีธรรมราช', 'ทุ่งใส', 'สิชล']\n"
     ]
    },
    {
     "name": "stderr",
     "output_type": "stream",
     "text": [
      "converting linestrings to coordinates: 100%|██████████| 141/141 [00:07<00:00, 18.48it/s]\n",
      "loading GSV: 100%|██████████| 141/141 [02:09<00:00,  1.09it/s]\n"
     ]
    },
    {
     "name": "stdout",
     "output_type": "stream",
     "text": [
      "===================================================\n",
      "147\n",
      "['นครศรีธรรมราช', 'สีขีด', 'สิชล']\n"
     ]
    },
    {
     "name": "stderr",
     "output_type": "stream",
     "text": [
      "converting linestrings to coordinates: 100%|██████████| 140/140 [00:09<00:00, 14.28it/s]\n",
      "loading GSV: 100%|██████████| 140/140 [02:58<00:00,  1.27s/it]\n"
     ]
    },
    {
     "name": "stdout",
     "output_type": "stream",
     "text": [
      "===================================================\n",
      "148\n",
      "['นครศรีธรรมราช', 'สิชล', 'สิชล']\n"
     ]
    },
    {
     "name": "stderr",
     "output_type": "stream",
     "text": [
      "converting linestrings to coordinates: 100%|██████████| 406/406 [00:10<00:00, 40.33it/s]\n",
      "loading GSV: 100%|██████████| 406/406 [02:28<00:00,  2.74it/s]\n"
     ]
    },
    {
     "name": "stdout",
     "output_type": "stream",
     "text": [
      "===================================================\n",
      "149\n",
      "['นครศรีธรรมราช', 'ทุ่งปรัง', 'สิชล']\n"
     ]
    },
    {
     "name": "stderr",
     "output_type": "stream",
     "text": [
      "converting linestrings to coordinates: 100%|██████████| 222/222 [00:08<00:00, 26.53it/s]\n",
      "loading GSV: 100%|██████████| 222/222 [02:03<00:00,  1.80it/s]\n"
     ]
    },
    {
     "name": "stdout",
     "output_type": "stream",
     "text": [
      "===================================================\n",
      "150\n",
      "['นครศรีธรรมราช', 'เขาน้อย', 'สิชล']\n"
     ]
    },
    {
     "name": "stderr",
     "output_type": "stream",
     "text": [
      "converting linestrings to coordinates: 100%|██████████| 89/89 [00:04<00:00, 20.17it/s]\n",
      "loading GSV: 100%|██████████| 89/89 [00:55<00:00,  1.60it/s]\n"
     ]
    },
    {
     "name": "stdout",
     "output_type": "stream",
     "text": [
      "===================================================\n",
      "151\n",
      "['นครศรีธรรมราช', 'ฉลอง', 'สิชล']\n"
     ]
    },
    {
     "name": "stderr",
     "output_type": "stream",
     "text": [
      "converting linestrings to coordinates: 100%|██████████| 86/86 [00:05<00:00, 15.23it/s]\n",
      "loading GSV: 100%|██████████| 86/86 [01:16<00:00,  1.13it/s]\n"
     ]
    },
    {
     "name": "stdout",
     "output_type": "stream",
     "text": [
      "===================================================\n",
      "152\n",
      "['นครศรีธรรมราช', 'เสาเภา', 'สิชล']\n"
     ]
    },
    {
     "name": "stderr",
     "output_type": "stream",
     "text": [
      "converting linestrings to coordinates: 100%|██████████| 147/147 [00:06<00:00, 23.13it/s]\n",
      "loading GSV: 100%|██████████| 147/147 [01:57<00:00,  1.25it/s]\n"
     ]
    },
    {
     "name": "stdout",
     "output_type": "stream",
     "text": [
      "===================================================\n",
      "153\n",
      "['นครศรีธรรมราช', 'กรุงชิง', 'นบพิตำ']\n"
     ]
    },
    {
     "name": "stderr",
     "output_type": "stream",
     "text": [
      "converting linestrings to coordinates: 100%|██████████| 217/217 [00:06<00:00, 33.22it/s]\n",
      "loading GSV: 100%|██████████| 217/217 [01:28<00:00,  2.45it/s]\n"
     ]
    },
    {
     "name": "stdout",
     "output_type": "stream",
     "text": [
      "===================================================\n",
      "154\n",
      "['นครศรีธรรมราช', 'เทพราช', 'สิชล']\n"
     ]
    },
    {
     "name": "stderr",
     "output_type": "stream",
     "text": [
      "converting linestrings to coordinates: 100%|██████████| 123/123 [00:06<00:00, 19.61it/s]\n",
      "loading GSV: 100%|██████████| 123/123 [01:08<00:00,  1.80it/s]\n"
     ]
    },
    {
     "name": "stdout",
     "output_type": "stream",
     "text": [
      "===================================================\n",
      "155\n",
      "['นครศรีธรรมราช', 'กลาย', 'ท่าศาลา']\n"
     ]
    },
    {
     "name": "stderr",
     "output_type": "stream",
     "text": [
      "converting linestrings to coordinates: 100%|██████████| 121/121 [00:05<00:00, 20.48it/s]\n",
      "loading GSV: 100%|██████████| 121/121 [02:06<00:00,  1.05s/it]\n"
     ]
    },
    {
     "name": "stdout",
     "output_type": "stream",
     "text": [
      "===================================================\n",
      "156\n",
      "['นครศรีธรรมราช', 'เปลี่ยน', 'สิชล']\n"
     ]
    },
    {
     "name": "stderr",
     "output_type": "stream",
     "text": [
      "converting linestrings to coordinates: 100%|██████████| 108/108 [00:04<00:00, 21.73it/s]\n",
      "loading GSV: 100%|██████████| 108/108 [01:05<00:00,  1.64it/s]\n"
     ]
    },
    {
     "name": "stdout",
     "output_type": "stream",
     "text": [
      "===================================================\n",
      "157\n",
      "['นครศรีธรรมราช', 'ตลิ่งชัน', 'ท่าศาลา']\n"
     ]
    },
    {
     "name": "stderr",
     "output_type": "stream",
     "text": [
      "converting linestrings to coordinates: 100%|██████████| 58/58 [00:04<00:00, 13.85it/s]\n",
      "loading GSV: 100%|██████████| 58/58 [00:52<00:00,  1.11it/s]\n"
     ]
    },
    {
     "name": "stdout",
     "output_type": "stream",
     "text": [
      "===================================================\n",
      "158\n",
      "['นครศรีธรรมราช', 'นบพิตำ', 'นบพิตำ']\n"
     ]
    },
    {
     "name": "stderr",
     "output_type": "stream",
     "text": [
      "converting linestrings to coordinates: 100%|██████████| 72/72 [00:03<00:00, 22.97it/s]\n",
      "loading GSV: 100%|██████████| 72/72 [00:45<00:00,  1.58it/s]\n"
     ]
    },
    {
     "name": "stdout",
     "output_type": "stream",
     "text": [
      "===================================================\n",
      "159\n",
      "['นครศรีธรรมราช', 'สระแก้ว', 'ท่าศาลา']\n"
     ]
    },
    {
     "name": "stderr",
     "output_type": "stream",
     "text": [
      "converting linestrings to coordinates: 100%|██████████| 77/77 [00:06<00:00, 12.41it/s]\n",
      "loading GSV: 100%|██████████| 77/77 [02:27<00:00,  1.91s/it]\n"
     ]
    },
    {
     "name": "stdout",
     "output_type": "stream",
     "text": [
      "===================================================\n",
      "160\n",
      "['นครศรีธรรมราช', 'ท่าขึ้น', 'ท่าศาลา']\n"
     ]
    },
    {
     "name": "stderr",
     "output_type": "stream",
     "text": [
      "converting linestrings to coordinates: 100%|██████████| 153/153 [00:07<00:00, 19.27it/s]\n",
      "loading GSV: 100%|██████████| 153/153 [02:04<00:00,  1.23it/s]\n"
     ]
    },
    {
     "name": "stdout",
     "output_type": "stream",
     "text": [
      "===================================================\n",
      "161\n",
      "['นครศรีธรรมราช', 'กะหรอ', 'นบพิตำ']\n"
     ]
    },
    {
     "name": "stderr",
     "output_type": "stream",
     "text": [
      "converting linestrings to coordinates: 100%|██████████| 65/65 [00:06<00:00, 10.54it/s]\n",
      "loading GSV: 100%|██████████| 65/65 [01:54<00:00,  1.76s/it]\n"
     ]
    },
    {
     "name": "stdout",
     "output_type": "stream",
     "text": [
      "===================================================\n",
      "162\n",
      "['นครศรีธรรมราช', 'กะทูน', 'พิปูน']\n"
     ]
    },
    {
     "name": "stderr",
     "output_type": "stream",
     "text": [
      "converting linestrings to coordinates: 100%|██████████| 52/52 [00:03<00:00, 15.81it/s]\n",
      "loading GSV: 100%|██████████| 52/52 [01:04<00:00,  1.25s/it]\n"
     ]
    },
    {
     "name": "stdout",
     "output_type": "stream",
     "text": [
      "===================================================\n",
      "163\n",
      "['นครศรีธรรมราช', 'เขาพระ', 'พิปูน']\n"
     ]
    },
    {
     "name": "stderr",
     "output_type": "stream",
     "text": [
      "converting linestrings to coordinates: 100%|██████████| 73/73 [00:02<00:00, 36.23it/s]\n",
      "loading GSV: 100%|██████████| 73/73 [00:36<00:00,  1.98it/s]\n"
     ]
    },
    {
     "name": "stdout",
     "output_type": "stream",
     "text": [
      "===================================================\n",
      "164\n",
      "['นครศรีธรรมราช', 'นาเหรง', 'นบพิตำ']\n"
     ]
    },
    {
     "name": "stderr",
     "output_type": "stream",
     "text": [
      "converting linestrings to coordinates: 100%|██████████| 47/47 [00:04<00:00,  9.80it/s]\n",
      "loading GSV: 100%|██████████| 47/47 [01:09<00:00,  1.47s/it]\n"
     ]
    },
    {
     "name": "stdout",
     "output_type": "stream",
     "text": [
      "===================================================\n",
      "165\n",
      "['นครศรีธรรมราช', 'ท่าศาลา', 'ท่าศาลา']\n"
     ]
    },
    {
     "name": "stderr",
     "output_type": "stream",
     "text": [
      "converting linestrings to coordinates: 100%|██████████| 258/258 [00:09<00:00, 27.39it/s]\n",
      "loading GSV: 100%|██████████| 258/258 [02:37<00:00,  1.64it/s]\n"
     ]
    },
    {
     "name": "stdout",
     "output_type": "stream",
     "text": [
      "===================================================\n",
      "166\n",
      "['นครศรีธรรมราช', 'ไทยบุรี', 'ท่าศาลา']\n"
     ]
    },
    {
     "name": "stderr",
     "output_type": "stream",
     "text": [
      "converting linestrings to coordinates: 100%|██████████| 152/152 [00:06<00:00, 22.11it/s]\n",
      "loading GSV: 100%|██████████| 101/101 [00:41<00:00,  2.42it/s]\n"
     ]
    },
    {
     "name": "stdout",
     "output_type": "stream",
     "text": [
      "===================================================\n",
      "168\n",
      "['นครศรีธรรมราช', 'ห้วยปริก', 'ฉวาง']\n"
     ]
    },
    {
     "name": "stderr",
     "output_type": "stream",
     "text": [
      "converting linestrings to coordinates: 100%|██████████| 34/34 [00:03<00:00,  9.57it/s]\n",
      "loading GSV: 100%|██████████| 34/34 [01:16<00:00,  2.25s/it]\n"
     ]
    },
    {
     "name": "stdout",
     "output_type": "stream",
     "text": [
      "===================================================\n",
      "169\n",
      "['นครศรีธรรมราช', 'หัวตะพาน', 'ท่าศาลา']\n"
     ]
    },
    {
     "name": "stderr",
     "output_type": "stream",
     "text": [
      "converting linestrings to coordinates: 100%|██████████| 117/117 [00:04<00:00, 23.68it/s]\n",
      "loading GSV: 100%|██████████| 117/117 [00:31<00:00,  3.69it/s]"
     ]
    },
    {
     "name": "stdout",
     "output_type": "stream",
     "text": [
      "===================================================\n"
     ]
    },
    {
     "name": "stderr",
     "output_type": "stream",
     "text": [
      "\n"
     ]
    }
   ],
   "source": [
    "for subdistrict_ind, feature in enumerate(data['features']):\n",
    "    print(subdistrict_ind)\n",
    "    \n",
    "    prop = feature['properties']\n",
    "    \n",
    "    geojson_prop = {\n",
    "        'PV_TN': prop['PV_TN'],\n",
    "        'AP_TN': prop['AP_TN'],\n",
    "        'TB_TN': prop['TB_TN']\n",
    "    }\n",
    "    \n",
    "    entry = {\n",
    "        'GEOJSON_PATH': os.path.join('data','shapefiles','Nakhon-Si-Thammarat-en.geojson'),\n",
    "        'keys': np.squeeze(keys.values)\n",
    "    }\n",
    "    \n",
    "    polygon = polygon_to_points.get_polygon(entry, geojson_prop)\n",
    "    \n",
    "    roads = polygon_to_points.generate_overpass_script(polygon)\n",
    "    \n",
    "    point_geojson = linestring_to_coords(roads)\n",
    "    \n",
    "    no_missing = []\n",
    "    missing_streets = deepcopy(point_geojson)\n",
    "    for point_ind, point_feature in enumerate(tqdm(point_geojson['features'], 'loading GSV')):\n",
    "\n",
    "        has_missing = False\n",
    "        missing_streets['features'][point_ind]['geometry']['coordinates'] = []\n",
    "\n",
    "        for lng, lat in point_feature['geometry']['coordinates']:\n",
    "            requestMeta = urlopen(\n",
    "                \"https://maps.googleapis.com/maps/api/streetview/metadata?\"+\\\n",
    "                \"location=\"+str(lat)+','+str(lng)+\"&key=\"+entry['keys'][0]\n",
    "            )    \n",
    "            metaJson = json.loads(requestMeta.read().decode('utf8'))\n",
    "            if metaJson[\"status\"] != 'OK':\n",
    "                missing_streets['features'][point_ind]['geometry']['coordinates'].append([lng, lat])\n",
    "                has_missing = True\n",
    "\n",
    "        if not has_missing: no_missing.append(point_ind)\n",
    "            \n",
    "            \n",
    "    for missing_ind in sorted(no_missing, reverse=True):\n",
    "        del missing_streets['features'][missing_ind]\n",
    "        \n",
    "    with open(os.path.join('data', 'missing-streets', str(subdistrict_ind)+'.geojson'), 'w') as FILE:\n",
    "        json.dump(missing_streets, FILE, indent=4)\n",
    "        \n",
    "    print(\"===================================================\")"
   ]
  }
 ],
 "metadata": {
  "kernelspec": {
   "display_name": "Python 3",
   "language": "python",
   "name": "python3"
  },
  "language_info": {
   "codemirror_mode": {
    "name": "ipython",
    "version": 3
   },
   "file_extension": ".py",
   "mimetype": "text/x-python",
   "name": "python",
   "nbconvert_exporter": "python",
   "pygments_lexer": "ipython3",
   "version": "3.5.2"
  }
 },
 "nbformat": 4,
 "nbformat_minor": 2
}
