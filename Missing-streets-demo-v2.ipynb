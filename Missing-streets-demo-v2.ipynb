{
 "cells": [
  {
   "cell_type": "markdown",
   "metadata": {},
   "source": [
    "# Street View Image Metadata\n",
    "\n",
    "The Street View API metadata requests provide data about Street View panoramas. Using the metadata, you can find out if a Street View image is available at a given location.\n",
    "\n",
    "Street View API metadata requests are free to use. **No quota is consumed** when you request metadata. Quota is only consumed when you load an image using the Street View API."
   ]
  },
  {
   "cell_type": "code",
   "execution_count": 55,
   "metadata": {},
   "outputs": [],
   "source": [
    "import os, math\n",
    "import json\n",
    "import overpass\n",
    "import pandas as pd\n",
    "import numpy as np\n",
    "from tqdm import tqdm\n",
    "from urllib.request import urlopen, HTTPError\n",
    "from gsvloader import polygon_to_points, loader\n",
    "from shapely.geometry import Polygon, Point, LineString, MultiLineString\n",
    "from copy import deepcopy\n",
    "\n",
    "keys = pd.read_csv('api-keys.csv', header=None)"
   ]
  },
  {
   "cell_type": "markdown",
   "metadata": {},
   "source": [
    "## Check Geojson properties"
   ]
  },
  {
   "cell_type": "code",
   "execution_count": 2,
   "metadata": {},
   "outputs": [],
   "source": [
    "with open(os.path.join('data','shapefiles','นครศรีธรรมราช.geojson')) as f:\n",
    "    data = json.load(f)"
   ]
  },
  {
   "cell_type": "markdown",
   "metadata": {},
   "source": [
    "## Sample Subdistrict"
   ]
  },
  {
   "cell_type": "code",
   "execution_count": 3,
   "metadata": {},
   "outputs": [],
   "source": [
    "geojson_prop = {\n",
    "    'PV_TN': 'นครศรีธรรมราช',\n",
    "    'AP_TN': 'เมืองนครศรีธรรมราช',\n",
    "    'TB_TN': 'คลัง'\n",
    "}\n",
    "\n",
    "entry = {\n",
    "    'GEOJSON_PATH': os.path.join('data','shapefiles','นครศรีธรรมราช.geojson'),\n",
    "    'keys': np.squeeze(keys.values)\n",
    "}"
   ]
  },
  {
   "cell_type": "markdown",
   "metadata": {},
   "source": [
    "### Get polygon of the area"
   ]
  },
  {
   "cell_type": "code",
   "execution_count": 42,
   "metadata": {},
   "outputs": [
    {
     "name": "stdout",
     "output_type": "stream",
     "text": [
      "['นครศรีธรรมราช', 'คลัง', 'เมืองนครศรีธรรมราช']\n"
     ]
    },
    {
     "data": {
      "image/svg+xml": [
       "<svg xmlns=\"http://www.w3.org/2000/svg\" xmlns:xlink=\"http://www.w3.org/1999/xlink\" width=\"100.0\" height=\"100.0\" viewBox=\"99.95659780474728 8.426241105919006 0.019711499756624562 0.01574483806589022\" preserveAspectRatio=\"xMinYMin meet\"><g transform=\"matrix(1,0,0,-1,0,16.8682270499039)\"><path fill-rule=\"evenodd\" fill=\"#66cc99\" stroke=\"#555555\" stroke-width=\"0.00039422999513249123\" opacity=\"0.6\" d=\"M 99.97337612300198,8.43899307008478 L 99.97357026136169,8.438306362017352 L 99.97415284016364,8.436312937873574 L 99.9749773470052,8.43390401117547 L 99.975478870209,8.431738383112588 L 99.97557924895736,8.431017991997862 L 99.97212638137228,8.429816335135026 L 99.96983904192996,8.429087718192404 L 99.96652350960497,8.427855709936969 L 99.96449196513791,8.427713171822328 L 99.96133975586442,8.427321826313051 L 99.95957337864648,8.426971161465548 L 99.95969227833658,8.428225189417649 L 99.95933077214904,8.43103486446864 L 99.95814363251743,8.435839108336527 L 99.95732786029382,8.438843211999567 L 99.95804887701026,8.43908564481608 L 99.96160493426882,8.439522367839555 L 99.96428375261895,8.439904124536298 L 99.96986084989913,8.440794222158226 L 99.97266023291694,8.441255888438354 L 99.9727238940065,8.441060150367466 L 99.97315839390335,8.439781018276836 L 99.97337612300198,8.43899307008478 z\" /></g></svg>"
      ],
      "text/plain": [
       "<shapely.geometry.polygon.Polygon at 0x7f89d87fbc18>"
      ]
     },
     "execution_count": 42,
     "metadata": {},
     "output_type": "execute_result"
    }
   ],
   "source": [
    "polygon = polygon_to_points.get_polygon(entry, geojson_prop)\n",
    "polygon"
   ]
  },
  {
   "cell_type": "markdown",
   "metadata": {},
   "source": [
    "### Get linestring of roads"
   ]
  },
  {
   "cell_type": "code",
   "execution_count": 103,
   "metadata": {},
   "outputs": [],
   "source": [
    "roads = polygon_to_points.generate_overpass_script(polygon)\n",
    "\n",
    "with open(os.path.join('data', 'v2', 'linestrings.geojson'), 'w') as FILE:\n",
    "    json.dump(roads, FILE, indent=4)"
   ]
  },
  {
   "cell_type": "markdown",
   "metadata": {},
   "source": [
    "### Extract coordinates along roads/streets"
   ]
  },
  {
   "cell_type": "code",
   "execution_count": 74,
   "metadata": {},
   "outputs": [],
   "source": [
    "def linestring_to_coords(roads):\n",
    "    point_entry = {\n",
    "        \"type\": \"FeatureCollection\",\n",
    "        \"features\": []\n",
    "    }\n",
    "    for road in tqdm(roads['features'],'converting linestrings to coordinates'):\n",
    "        if (road['geometry']['type'] != 'LineString'):\n",
    "            continue\n",
    "        \n",
    "        line = deepcopy(road['geometry']['coordinates'])\n",
    "        road['geometry']['coordinates'] = []\n",
    "        \n",
    "        for i in range(len(line)-1):\n",
    "            x1,y1 = line[i]\n",
    "            x2,y2 = line[i+1]\n",
    "            x1 += 0.0000000001\n",
    "\n",
    "            degree = math.degrees(math.atan(abs((y1-y2)/(x1-x2))))\n",
    "\n",
    "            if(degree < 45): \n",
    "                if(x1 == min(x1,x2)): start_x,start_y, end_x,end_y = x1,y1, x2,y2 \n",
    "                else: start_x,start_y, end_x,end_y = x2,y2, x1,y1\n",
    "\n",
    "                m = (start_y-end_y)/(start_x-end_x)\n",
    "                FROM, TO = start_x, end_x                      \n",
    "                cur_x, cur_y = start_x, start_y\n",
    "                while(FROM < TO):\n",
    "                    new_x, new_y = linearEquation_x(start_x, start_y, m, FROM)\n",
    "                    dist = math.hypot(new_x-cur_x, new_y-cur_y)\n",
    "                    meters = 111111*dist\n",
    "                    if(meters > 50):\n",
    "                        cur_x, cur_y = new_x, new_y\n",
    "                        road['geometry']['coordinates'].append([round(cur_x, 8), round(cur_y, 8)])  \n",
    "                    FROM += 0.000000123\n",
    "            else:\n",
    "                if(y1 == min(y1,y2)): start_x,start_y, end_x,end_y = x1,y1, x2,y2 \n",
    "                else: start_x,start_y, end_x,end_y = x2,y2, x1,y1\n",
    "\n",
    "                m = (start_y-end_y)/(start_x-end_x)\n",
    "                FROM, TO = start_y, end_y                      \n",
    "                cur_x, cur_y = start_x, start_y\n",
    "                while(FROM < TO):\n",
    "                    new_x, new_y = linearEquation_y(start_x, start_y, m, FROM)\n",
    "                    dist = math.hypot(new_x-cur_x, new_y-cur_y)\n",
    "                    meters = 111111*dist\n",
    "                    if(meters > 50):\n",
    "                        cur_x, cur_y = new_x, new_y\n",
    "                        road['geometry']['coordinates'].append([round(cur_x, 8), round(cur_y, 8)])  \n",
    "                    FROM += 0.000000123\n",
    "        point_entry['features'].append(road)\n",
    "    return point_entry\n",
    "\n",
    "def linearEquation_x(x1, y1, m, x):\n",
    "    y = m*(x-x1)+y1\n",
    "    return x,y\n",
    "\n",
    "def linearEquation_y(x1, y1, m, y):\n",
    "    x = (y - y1 + (m*x1)) / m\n",
    "    return x,y"
   ]
  },
  {
   "cell_type": "code",
   "execution_count": 76,
   "metadata": {},
   "outputs": [
    {
     "name": "stderr",
     "output_type": "stream",
     "text": [
      "converting linestrings to coordinates: 100%|██████████| 105/105 [00:02<00:00, 46.29it/s]\n"
     ]
    }
   ],
   "source": [
    "point_geojson = linestring_to_coords(roads)\n",
    "\n",
    "with open(os.path.join('data', 'v2', 'points-on-linestrings.geojson'), 'w') as FILE:\n",
    "    json.dump(point_geojson, FILE, indent=4)"
   ]
  },
  {
   "cell_type": "markdown",
   "metadata": {},
   "source": [
    "### Send requests if a Street View image is available at a given location."
   ]
  },
  {
   "cell_type": "code",
   "execution_count": 96,
   "metadata": {
    "scrolled": true
   },
   "outputs": [
    {
     "name": "stderr",
     "output_type": "stream",
     "text": [
      "loading GSV: 100%|██████████| 105/105 [00:55<00:00,  1.90it/s]\n"
     ]
    }
   ],
   "source": [
    "no_missing = []\n",
    "missing_streets = deepcopy(point_geojson)\n",
    "for i, feature in enumerate(tqdm(point_geojson['features'], 'loading GSV')):\n",
    "    \n",
    "    has_missing = False\n",
    "    missing_streets['features'][i]['geometry']['coordinates'] = []\n",
    "\n",
    "    for lng, lat in feature['geometry']['coordinates']:\n",
    "        requestMeta = urlopen(\n",
    "            \"https://maps.googleapis.com/maps/api/streetview/metadata?\"+\\\n",
    "            \"location=\"+str(lat)+','+str(lng)+\"&key=\"+entry['keys'][0]\n",
    "        )    \n",
    "        metaJson = json.loads(requestMeta.read().decode('utf8'))\n",
    "        if metaJson[\"status\"] != 'OK':\n",
    "            missing_streets['features'][i]['geometry']['coordinates'].append([lng, lat])\n",
    "            has_missing = True\n",
    "            \n",
    "    if not has_missing: no_missing.append(i)"
   ]
  },
  {
   "cell_type": "code",
   "execution_count": 100,
   "metadata": {},
   "outputs": [],
   "source": [
    "for i in sorted(no_missing, reverse=True):\n",
    "    del missing_streets['features'][i]"
   ]
  },
  {
   "cell_type": "code",
   "execution_count": 102,
   "metadata": {
    "scrolled": false
   },
   "outputs": [],
   "source": [
    "with open(os.path.join('data', 'v2', 'missing-streets.geojson'), 'w') as FILE:\n",
    "    json.dump(missing_streets, FILE, indent=4)"
   ]
  },
  {
   "cell_type": "markdown",
   "metadata": {},
   "source": [
    "### Example of metadata\n",
    "* street view available\n",
    "```json\n",
    "{\"copyright\": \"© Google, Inc.\",\n",
    " \"date\": \"2016-06\",\n",
    " \"location\": {\"lat\": 8.601592312833652, \"lng\": 99.80298133747272},\n",
    " \"pano_id\": \"u5Hn4GeNtMtk1EvLOa-N5w\",\n",
    " \"status\": \"OK\"}\n",
    "```\n",
    "* street view *unavailable*\n",
    "```json\n",
    "{\"status\": \"ZERO_RESULTS\"}\n",
    "```\n",
    "\n",
    "Ref: https://developers.google.com/maps/documentation/streetview/metadata"
   ]
  }
 ],
 "metadata": {
  "kernelspec": {
   "display_name": "Python 3",
   "language": "python",
   "name": "python3"
  },
  "language_info": {
   "codemirror_mode": {
    "name": "ipython",
    "version": 3
   },
   "file_extension": ".py",
   "mimetype": "text/x-python",
   "name": "python",
   "nbconvert_exporter": "python",
   "pygments_lexer": "ipython3",
   "version": "3.5.2"
  }
 },
 "nbformat": 4,
 "nbformat_minor": 2
}
